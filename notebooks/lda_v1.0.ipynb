{
 "cells": [
  {
   "cell_type": "code",
   "execution_count": 25,
   "metadata": {
    "collapsed": true
   },
   "outputs": [],
   "source": [
    "import numpy as np\n",
    "import scipy.sparse as sp\n",
    "import matplotlib.pyplot as plt\n",
    "import json\n",
    "\n",
    "from sklearn.model_selection import train_test_split\n",
    "from sklearn.metrics import f1_score\n",
    "from sklearn.decomposition import LatentDirichletAllocation\n",
    "from sklearn.feature_extraction.text import CountVectorizer\n",
    "from sklearn.linear_model import LogisticRegression\n",
    "from sklearn.ensemble import RandomForestClassifier\n",
    "\n",
    "## allow the import of the MovieData class\n",
    "import sys\n",
    "import os\n",
    "path = os.path.abspath(os.getcwd()) + '/../data_load'\n",
    "sys.path.insert(0, path)\n",
    "\n",
    "from movie_data import MovieData\n",
    "\n",
    "%matplotlib inline"
   ]
  },
  {
   "cell_type": "code",
   "execution_count": 4,
   "metadata": {
    "collapsed": false
   },
   "outputs": [
    {
     "name": "stdout",
     "output_type": "stream",
     "text": [
      "['Action' 'Adventure' 'Comedy' 'Crime' 'Drama' 'Romance' 'Thriller']\n"
     ]
    }
   ],
   "source": [
    "moviedata = MovieData(min_genre_frequency=0.05)\n",
    "print(moviedata.genre_labels)"
   ]
  },
  {
   "cell_type": "code",
   "execution_count": 5,
   "metadata": {
    "collapsed": true
   },
   "outputs": [],
   "source": [
    "def print_top_words(model, feature_names, n_top_words):\n",
    "    for topic_idx, topic in enumerate(model.components_):\n",
    "        print(\"Topic #%d:\" % topic_idx)\n",
    "        print(\" \".join([feature_names[i]\n",
    "                        for i in topic.argsort()[:-n_top_words - 1:-1]]))\n",
    "    print()"
   ]
  },
  {
   "cell_type": "code",
   "execution_count": 33,
   "metadata": {
    "collapsed": false
   },
   "outputs": [
    {
     "name": "stdout",
     "output_type": "stream",
     "text": [
      "Topic #0:\n",
      "charlie eddie king prince invention cabin harold 1950s charles embark bennett chloe beverly royal boat hills lily wallace sea mistaken\n",
      "Topic #1:\n",
      "world harry god evil earth vegas save terrible human jay new cult thief real picture radio rare horrific annie team\n",
      "Topic #2:\n",
      "team crew money group nick ship black captain mike earth angeles gang los new sam million member hunter plan decide\n",
      "Topic #3:\n",
      "man life young family town father world son new love help story time old years lives woman home death girl\n",
      "Topic #4:\n",
      "war murder group american police world agent secret new man young drug killer country case help years bond detective mission\n",
      "Topic #5:\n",
      "film music documentary rock early singer band star park movie dance set director hollywood danny musical world lee club comedy\n",
      "Topic #6:\n",
      "life new school friends love old family friend time mother day year young just high father best daughter finds woman\n",
      "\n"
     ]
    }
   ],
   "source": [
    "n_features = 5000\n",
    "n_top_words = 20\n",
    "\n",
    "count_vectorizor = CountVectorizer(\n",
    "        max_df=0.95, \n",
    "        min_df=2,\n",
    "        max_features=n_features,\n",
    "        stop_words='english'\n",
    ")\n",
    "count = count_vectorizor.fit_transform(moviedata.plots)\n",
    "count_feature_names = count_vectorizor.get_feature_names()\n",
    "\n",
    "lda = LatentDirichletAllocation(\n",
    "        n_topics=7, max_iter=5,\n",
    "        learning_method='online',\n",
    "        learning_offset=50.,\n",
    "        random_state=0\n",
    ")\n",
    "Z = lda.fit_transform(count)\n",
    "\n",
    "print_top_words(lda, count_feature_names, n_top_words)"
   ]
  },
  {
   "cell_type": "code",
   "execution_count": 34,
   "metadata": {
    "collapsed": true
   },
   "outputs": [],
   "source": [
    "X_train, X_test, y_train, y_test = train_test_split(\n",
    "    Z, \n",
    "    moviedata.one_hot_genres, \n",
    "    test_size=0.4, \n",
    "    random_state=42\n",
    ")"
   ]
  },
  {
   "cell_type": "markdown",
   "metadata": {},
   "source": [
    "# Linear Regression"
   ]
  },
  {
   "cell_type": "code",
   "execution_count": 44,
   "metadata": {
    "collapsed": false,
    "scrolled": false
   },
   "outputs": [
    {
     "name": "stdout",
     "output_type": "stream",
     "text": [
      "Genre: Action, Score: 0.55\n",
      "Genre: Adventure, Score: 0.39\n",
      "Genre: Comedy, Score: 0.57\n",
      "Genre: Crime, Score: 0.38\n",
      "Genre: Drama, Score: 0.67\n",
      "Genre: Romance, Score: 0.43\n",
      "Genre: Thriller, Score: 0.27\n",
      "Mean f1 score: 0.466\n"
     ]
    }
   ],
   "source": [
    "genre_coeffs = []\n",
    "scores = []\n",
    "\n",
    "for i, label in enumerate(moviedata.genre_labels):\n",
    "    coeffs = np.linalg.lstsq(X_train, y_train[:, i])[0]\n",
    "    genre_coeffs.append(coeffs)\n",
    "    y_pred_probs = np.dot(X_test, coeffs)\n",
    "    y_pred = np.array(y_pred_probs > 0.25, dtype=int)\n",
    "    score = f1_score(y_test[:, i], y_pred)\n",
    "    scores.append(score)\n",
    "    print(\"Genre: {}, Score: {:.2f}\".format(label, score))\n",
    "    \n",
    "print('Mean f1 score: {:.3f}'.format(np.mean(scores)))"
   ]
  },
  {
   "cell_type": "markdown",
   "metadata": {},
   "source": [
    "# Logistic Regression"
   ]
  },
  {
   "cell_type": "code",
   "execution_count": 40,
   "metadata": {
    "collapsed": false
   },
   "outputs": [
    {
     "name": "stdout",
     "output_type": "stream",
     "text": [
      "Genre: Action, Score: 0.55\n",
      "Genre: Adventure, Score: 0.41\n",
      "Genre: Comedy, Score: 0.57\n",
      "Genre: Crime, Score: 0.42\n",
      "Genre: Drama, Score: 0.58\n",
      "Genre: Romance, Score: 0.44\n",
      "Genre: Thriller, Score: 0.34\n",
      "Mean f1 score: 0.472\n"
     ]
    },
    {
     "data": {
      "image/png": "[encoded data removed]",
      "text/plain": [
       "<matplotlib.figure.Figure at 0x117b05da0>"
      ]
     },
     "metadata": {},
     "output_type": "display_data"
    }
   ],
   "source": [
    "scores = []\n",
    "\n",
    "for i, label in enumerate(moviedata.genre_labels):\n",
    "    clf = LogisticRegression()\n",
    "    clf.fit(X_train, y_train[:, i])\n",
    "    y_pred_probs = clf.predict_proba(X_test)[:, 1]\n",
    "    plt.hist(y_pred_probs)\n",
    "    y_pred = np.array(y_pred_probs > np.mean(y_pred_probs), dtype=int)\n",
    "    score = f1_score(y_test[:, i], y_pred)\n",
    "    scores.append(score)\n",
    "    print(\"Genre: {}, Score: {:.2f}\".format(label, score))\n",
    "    \n",
    "print('Mean f1 score: {:.3f}'.format(np.mean(scores)))"
   ]
  },
  {
   "cell_type": "markdown",
   "metadata": {},
   "source": [
    "# Random Forrest"
   ]
  },
  {
   "cell_type": "code",
   "execution_count": 45,
   "metadata": {
    "collapsed": true
   },
   "outputs": [],
   "source": [
    "clf = RandomForestClassifier(n_estimators=25, max_features='auto', max_depth=None)\n",
    "clf.fit(X_train, y_train)\n",
    "y_guess_probs = clf.predict_proba(X_test)\n",
    "y_guess = clf.predict(X_test)"
   ]
  },
  {
   "cell_type": "code",
   "execution_count": 46,
   "metadata": {
    "collapsed": true
   },
   "outputs": [],
   "source": [
    "scores = f1_score(y_test, y_guess, average=None)"
   ]
  },
  {
   "cell_type": "code",
   "execution_count": 47,
   "metadata": {
    "collapsed": false
   },
   "outputs": [
    {
     "name": "stdout",
     "output_type": "stream",
     "text": [
      "0.324887119341\n"
     ]
    }
   ],
   "source": [
    "print(np.mean(scores))"
   ]
  },
  {
   "cell_type": "code",
   "execution_count": 49,
   "metadata": {
    "collapsed": false
   },
   "outputs": [
    {
     "data": {
      "text/plain": [
       "0.33008647432322585"
      ]
     },
     "execution_count": 49,
     "metadata": {},
     "output_type": "execute_result"
    }
   ],
   "source": [
    "# guess randomly\n",
    "np.mean(f1_score(y_test, np.random.randint(0, 2, y_test.shape), average=None))"
   ]
  },
  {
   "cell_type": "code",
   "execution_count": null,
   "metadata": {
    "collapsed": true
   },
   "outputs": [],
   "source": []
  }
 ],
 "metadata": {
  "kernelspec": {
   "display_name": "Python 3",
   "language": "python",
   "name": "python3"
  },
  "language_info": {
   "codemirror_mode": {
    "name": "ipython",
    "version": 3
   },
   "file_extension": ".py",
   "mimetype": "text/x-python",
   "name": "python",
   "nbconvert_exporter": "python",
   "pygments_lexer": "ipython3",
   "version": "3.6.0"
  }
 },
 "nbformat": 4,
 "nbformat_minor": 2
}

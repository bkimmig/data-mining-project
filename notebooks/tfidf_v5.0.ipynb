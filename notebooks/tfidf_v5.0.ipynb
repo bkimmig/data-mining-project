{
 "cells": [
  {
   "cell_type": "code",
   "execution_count": 100,
   "metadata": {
    "collapsed": true
   },
   "outputs": [],
   "source": [
    "import numpy as np\n",
    "import scipy.sparse as sp\n",
    "import matplotlib.pyplot as plt\n",
    "import json\n",
    "\n",
    "from sklearn.metrics import f1_score\n",
    "\n",
    "import sys\n",
    "import os\n",
    "\n",
    "path = os.path.abspath(os.getcwd()) + '/../data_load'\n",
    "sys.path.insert(0, path)\n",
    "\n",
    "from movie_data import MovieData\n",
    "\n",
    "%matplotlib inline"
   ]
  },
  {
   "cell_type": "code",
   "execution_count": 101,
   "metadata": {
    "collapsed": false
   },
   "outputs": [
    {
     "name": "stdout",
     "output_type": "stream",
     "text": [
      "['Action' 'Adventure' 'Biography' 'Comedy' 'Crime' 'Drama' 'Family'\n",
      " 'Fantasy' 'Horror' 'Mystery' 'Romance' 'Sci-Fi' 'Thriller']\n"
     ]
    }
   ],
   "source": [
    "moviedata = MovieData(min_genre_frequency=0.05)\n",
    "print(moviedata.genre_labels)"
   ]
  },
  {
   "cell_type": "code",
   "execution_count": 120,
   "metadata": {
    "collapsed": true
   },
   "outputs": [],
   "source": [
    "from sklearn.feature_extraction.text import CountVectorizer, TfidfVectorizer\n",
    "\n",
    "vectorizer = TfidfVectorizer(\n",
    "    max_df=0.7,\n",
    "    analyzer='word',\n",
    "    ngram_range=(1, 1),\n",
    "    max_features=10000,\n",
    "    stop_words='english'\n",
    ")\n",
    "\n",
    "X = vectorizer.fit_transform(moviedata.plots)"
   ]
  },
  {
   "cell_type": "code",
   "execution_count": 121,
   "metadata": {
    "collapsed": false
   },
   "outputs": [
    {
     "data": {
      "text/plain": [
       "(5029, 10000)"
      ]
     },
     "execution_count": 121,
     "metadata": {},
     "output_type": "execute_result"
    }
   ],
   "source": [
    "#vectorizer.get_feature_names()\n",
    "X.todense().shape"
   ]
  },
  {
   "cell_type": "code",
   "execution_count": 222,
   "metadata": {
    "collapsed": false
   },
   "outputs": [],
   "source": [
    "from sklearn.decomposition import PCA\n",
    "\n",
    "pca = PCA(n_components=2000)\n",
    "XX = pca.fit_transform(X.todense())"
   ]
  },
  {
   "cell_type": "code",
   "execution_count": 137,
   "metadata": {
    "collapsed": false
   },
   "outputs": [
    {
     "data": {
      "text/plain": [
       "<matplotlib.image.AxesImage at 0x11bf39400>"
      ]
     },
     "execution_count": 137,
     "metadata": {},
     "output_type": "execute_result"
    },
    {
     "data": {
      "image/png": "[encoded data removed]",
      "text/plain": [
       "<matplotlib.figure.Figure at 0x11a67c2b0>"
      ]
     },
     "metadata": {},
     "output_type": "display_data"
    }
   ],
   "source": [
    "plt.imshow(XX, aspect='auto')"
   ]
  },
  {
   "cell_type": "code",
   "execution_count": 223,
   "metadata": {
    "collapsed": false
   },
   "outputs": [],
   "source": [
    "from sklearn.model_selection import train_test_split\n",
    "\n",
    "X_train, X_test, y_train, y_test = train_test_split(\n",
    "    X.todense(),\n",
    "    moviedata.one_hot_genres,\n",
    "    test_size=0.4, \n",
    "    random_state=42)"
   ]
  },
  {
   "cell_type": "code",
   "execution_count": 224,
   "metadata": {
    "collapsed": false
   },
   "outputs": [
    {
     "data": {
      "text/plain": [
       "(5029, 2000)"
      ]
     },
     "execution_count": 224,
     "metadata": {},
     "output_type": "execute_result"
    }
   ],
   "source": [
    "XX.shape"
   ]
  },
  {
   "cell_type": "markdown",
   "metadata": {},
   "source": [
    "## Least Squares"
   ]
  },
  {
   "cell_type": "code",
   "execution_count": null,
   "metadata": {
    "collapsed": false
   },
   "outputs": [],
   "source": [
    "genre_coeffs = []\n",
    "scores = []\n",
    "\n",
    "for i, label in enumerate(moviedata.genre_labels):\n",
    "    coeffs = np.linalg.lstsq(X_train, y_train[:, i])[0]\n",
    "    genre_coeffs.append(coeffs)\n",
    "    y_pred = np.dot(X_test, coeffs)\n",
    "    y_pred = np.array(y_pred > 0.25, dtype=int)\n",
    "    score = f1_score(y_test[:, i], y_pred)\n",
    "    scores.append(score)\n",
    "    print(\"Genre: {}, Score: {}\".format(labels[i], score))\n",
    "    \n",
    "    \n",
    "#np.linalg.lstsq(X_train, y_train[:, 0])[0]"
   ]
  },
  {
   "cell_type": "code",
   "execution_count": null,
   "metadata": {
    "collapsed": false
   },
   "outputs": [],
   "source": [
    "np.mean(scores)"
   ]
  },
  {
   "cell_type": "markdown",
   "metadata": {},
   "source": [
    "## RandomForrest Model"
   ]
  },
  {
   "cell_type": "code",
   "execution_count": 225,
   "metadata": {
    "collapsed": false
   },
   "outputs": [
    {
     "name": "stdout",
     "output_type": "stream",
     "text": [
      "Action 0.28\n",
      "Adventure 0.23\n",
      "Biography 0.03\n",
      "Comedy 0.45\n",
      "Crime 0.28\n",
      "Drama 0.68\n",
      "Family 0.05\n",
      "Fantasy 0.09\n",
      "Horror 0.14\n",
      "Mystery 0.10\n",
      "Romance 0.27\n",
      "Sci-Fi 0.15\n",
      "Thriller 0.14\n",
      "Average 0.223\n"
     ]
    }
   ],
   "source": [
    "from sklearn.ensemble import RandomForestClassifier\n",
    "from sklearn.metrics import f1_score\n",
    "\n",
    "clf = RandomForestClassifier(n_estimators=25, max_features='auto', max_depth=None)\n",
    "clf.fit(X_train, y_train)\n",
    "y_guess_probs = clf.predict_proba(X_test)\n",
    "y_guess = clf.predict(X_test)\n",
    "\n",
    "scores = f1_score(y_test, y_guess, average=None)\n",
    "\n",
    "for item in list(zip(moviedata.genre_labels, scores)):\n",
    "    print(\"{} {:.2f}\".format(item[0], item[1]))\n",
    "\n",
    "\n",
    "print(\"Average {:.3f}\".format(np.mean(scores)))\n"
   ]
  },
  {
   "cell_type": "code",
   "execution_count": 202,
   "metadata": {
    "collapsed": false
   },
   "outputs": [
    {
     "data": {
      "text/plain": [
       "0.22058409371466253"
      ]
     },
     "execution_count": 202,
     "metadata": {},
     "output_type": "execute_result"
    }
   ],
   "source": [
    "np.mean(scores)"
   ]
  },
  {
   "cell_type": "markdown",
   "metadata": {},
   "source": [
    "## Logrithmic"
   ]
  },
  {
   "cell_type": "code",
   "execution_count": 192,
   "metadata": {
    "collapsed": false
   },
   "outputs": [],
   "source": [
    "from sklearn.linear_model import LogisticRegression \n",
    "from sklearn.multiclass import OneVsRestClassifier\n",
    "from sklearn.svm import LinearSVC\n",
    "from sklearn.utils import shuffle\n",
    "from sklearn import preprocessing\n",
    "from sklearn import utils\n",
    "\n",
    "X_train, X_test, y_train, y_test = train_test_split(\n",
    "    XX,\n",
    "    moviedata.one_hot_genres,\n",
    "    test_size=0.1,\n",
    "    random_state=43\n",
    ")"
   ]
  },
  {
   "cell_type": "code",
   "execution_count": 193,
   "metadata": {
    "collapsed": false
   },
   "outputs": [
    {
     "name": "stdout",
     "output_type": "stream",
     "text": [
      "Action 0.66\n",
      "Adventure 0.51\n",
      "Biography 0.26\n",
      "Comedy 0.63\n",
      "Crime 0.62\n",
      "Drama 0.72\n",
      "Family 0.25\n",
      "Fantasy 0.22\n",
      "Horror 0.48\n",
      "Mystery 0.28\n",
      "Romance 0.59\n",
      "Sci-Fi 0.44\n",
      "Thriller 0.41\n",
      "Mean f1 score: 0.466\n"
     ]
    },
    {
     "data": {
      "image/png": "[encoded data removed]",
      "text/plain": [
       "<matplotlib.figure.Figure at 0x11a77cf28>"
      ]
     },
     "metadata": {},
     "output_type": "display_data"
    }
   ],
   "source": [
    "scores = []\n",
    "\n",
    "for i, label in enumerate(moviedata.genre_labels):\n",
    "    clf = LogisticRegression()\n",
    "    clf.fit(X_train, y_train[:, i])\n",
    "    y_pred_probs = clf.predict_proba(X_test)[:, 1]\n",
    "    plt.hist(y_pred_probs)\n",
    "    y_pred = np.array(y_pred_probs > np.mean(y_pred_probs), dtype=int)\n",
    "    score = f1_score(y_test[:, i], y_pred)\n",
    "    scores.append(score)\n",
    "    print(\"{} {:.2f}\".format(label, score))\n",
    "    \n",
    "print('Mean f1 score: {:.3f}'.format(np.mean(scores)))"
   ]
  },
  {
   "cell_type": "code",
   "execution_count": null,
   "metadata": {
    "collapsed": true
   },
   "outputs": [],
   "source": []
  }
 ],
 "metadata": {
  "kernelspec": {
   "display_name": "Python 3",
   "language": "python",
   "name": "python3"
  },
  "language_info": {
   "codemirror_mode": {
    "name": "ipython",
    "version": 3
   },
   "file_extension": ".py",
   "mimetype": "text/x-python",
   "name": "python",
   "nbconvert_exporter": "python",
   "pygments_lexer": "ipython3",
   "version": "3.6.0"
  }
 },
 "nbformat": 4,
 "nbformat_minor": 2
}

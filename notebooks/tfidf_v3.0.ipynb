{
 "cells": [
  {
   "cell_type": "code",
   "execution_count": 2,
   "metadata": {
    "collapsed": true
   },
   "outputs": [],
   "source": [
    "import numpy as np\n",
    "import scipy.sparse as sp\n",
    "import matplotlib.pyplot as plt\n",
    "import json\n",
    "\n",
    "%matplotlib inline\n",
    "\n",
    "DATAPATH = '../data/movie_metadata.json'"
   ]
  },
  {
   "cell_type": "markdown",
   "metadata": {},
   "source": [
    "# Loading The Data\n",
    "\n",
    "Open the json file and load it into memory. We also clean the data and separate it into two array - plots and genres. The json movie data file is then deleted as we have no reason to keep it in memory.\n",
    "\n",
    "Split the genres to make a list, and remove whitespace from the entries. Example: 'Action, Adventure' splits to ['Action', ' Adventure'], the strip makes sure there is no ' Adventure' and we only get 'Adventure'."
   ]
  },
  {
   "cell_type": "code",
   "execution_count": 3,
   "metadata": {
    "collapsed": true
   },
   "outputs": [],
   "source": [
    "## load in the data\n",
    "with open(DATAPATH, 'r') as f:\n",
    "    movie_data = json.load(f)\n",
    "\n",
    "plots = []\n",
    "genres = []\n",
    "for movie in movie_data['data']:\n",
    "    plots.append(movie['plot'])\n",
    "    genres.append([genres.strip() for genres in movie['genres'].split(',')])\n",
    "\n",
    "del movie_data"
   ]
  },
  {
   "cell_type": "markdown",
   "metadata": {},
   "source": [
    "# Genres\n",
    "\n",
    "Below you can see that we have about 26 unique genres. We may not want to use all of them, so we should only look at the genres that occur most frequently (maybe?). I think to start we may try them all, but looking only at the most frequent genres could be a helpful reduction in the data."
   ]
  },
  {
   "cell_type": "code",
   "execution_count": 4,
   "metadata": {
    "collapsed": false
   },
   "outputs": [
    {
     "name": "stdout",
     "output_type": "stream",
     "text": [
      "GENRES\n",
      "------\n",
      "Action\n",
      "Adventure\n",
      "Animation\n",
      "Biography\n",
      "Comedy\n",
      "Crime\n",
      "Documentary\n",
      "Drama\n",
      "Family\n",
      "Fantasy\n",
      "Film-Noir\n",
      "Game-Show\n",
      "History\n",
      "Horror\n",
      "Music\n",
      "Musical\n",
      "Mystery\n",
      "News\n",
      "Reality-TV\n",
      "Romance\n",
      "Sci-Fi\n",
      "Short\n",
      "Sport\n",
      "Thriller\n",
      "War\n",
      "Western\n",
      "------\n",
      "Number of Unique Genres 26\n"
     ]
    }
   ],
   "source": [
    "unique_genres, counts_genres = np.unique(np.concatenate(genres), return_counts=True)\n",
    "print('GENRES')\n",
    "print('------')\n",
    "for genre in unique_genres:\n",
    "    print(genre)\n",
    "print('------')\n",
    "print(\"Number of Unique Genres {}\".format(len(unique_genres)))"
   ]
  },
  {
   "cell_type": "markdown",
   "metadata": {},
   "source": [
    "## Genre Frequency\n",
    "\n",
    "There are a large number of genres that occur very infrequently, for instance we can see that the genres 'Game-Show' or 'Reality-TV' occur less than 1% of the time. It might be good to only look at genres that occur more than 1% or 5% of the time. As a side note, these rare generes could be a result of the wrong movie information - this should be rare though as we used IMDB IDs to search for the movie information. Or it could be a result of the movie, in the database we got them from, having incorrect or just mislabeled information. "
   ]
  },
  {
   "cell_type": "code",
   "execution_count": 5,
   "metadata": {
    "collapsed": false
   },
   "outputs": [
    {
     "name": "stdout",
     "output_type": "stream",
     "text": [
      "('Action', 0.092597038815526209)\n",
      "('Adventure', 0.074429771908763501)\n",
      "('Animation', 0.019367747098839535)\n",
      "('Biography', 0.024009603841536616)\n",
      "('Comedy', 0.1477390956382553)\n",
      "('Crime', 0.070108043217286919)\n",
      "('Documentary', 0.0094437775110044024)\n",
      "('Drama', 0.20352140856342538)\n",
      "('Family', 0.029851940776310523)\n",
      "('Fantasy', 0.031372549019607843)\n",
      "('Film-Noir', 0.00040016006402561027)\n",
      "('Game-Show', 8.0032012805122043e-05)\n",
      "('History', 0.012885154061624649)\n",
      "('Horror', 0.043777511004401762)\n",
      "('Music', 0.013765506202480992)\n",
      "('Musical', 0.0056022408963585435)\n",
      "('Mystery', 0.032412965186074429)\n",
      "('News', 0.00016006402561024409)\n",
      "('Reality-TV', 0.00016006402561024409)\n",
      "('Romance', 0.069547819127651067)\n",
      "('Sci-Fi', 0.032492997198879554)\n",
      "('Short', 0.00040016006402561027)\n",
      "('Sport', 0.010164065626250501)\n",
      "('Thriller', 0.062825130052020811)\n",
      "('War', 0.0085634253701480593)\n",
      "('Western', 0.0043217286914765908)\n",
      "-------\n",
      "Genres occuring more than 0.01% of the time\n",
      "['Action' 'Adventure' 'Animation' 'Biography' 'Comedy' 'Crime' 'Drama'\n",
      " 'Family' 'Fantasy' 'History' 'Horror' 'Music' 'Mystery' 'Romance' 'Sci-Fi'\n",
      " 'Sport' 'Thriller']\n"
     ]
    }
   ],
   "source": [
    "freq_genre = counts_genres/np.sum(counts_genres)\n",
    "for combination in list(zip(unique_genres, freq_genre)):\n",
    "    print(combination)\n",
    "\n",
    "print('-------')\n",
    "frequency_cut = 0.01\n",
    "print('Genres occuring more than {}% of the time'.format(frequency_cut))\n",
    "print(unique_genres[freq_genre > frequency_cut])"
   ]
  },
  {
   "cell_type": "code",
   "execution_count": 6,
   "metadata": {
    "collapsed": false
   },
   "outputs": [
    {
     "data": {
      "image/png": "[encoded data removed]",
      "text/plain": [
       "<matplotlib.figure.Figure at 0x10640a208>"
      ]
     },
     "metadata": {},
     "output_type": "display_data"
    }
   ],
   "source": [
    "idx = np.arange(len(freq_genre))\n",
    "space = 0.1\n",
    "\n",
    "fig = plt.figure('')\n",
    "ax = fig.add_subplot(111)\n",
    "ax.bar(idx, freq_genre)\n",
    "ax.set_xticks(idx)\n",
    "ax.set_xticklabels(unique_genres, rotation='vertical')\n",
    "\n",
    "ax.hlines(0.05, -5, np.max(idx)+5, colors='r', linestyles='dashed')\n",
    "ax.set_xlim((-1, np.max(idx)+1))\n",
    "\n",
    "ax.set_ylabel('Fraction of Occurance')\n",
    "ax.set_xlabel('Genre')\n",
    "\n",
    "plt.tight_layout()\n",
    "plt.savefig('../intermediate_report/genre_fractions_v2p0.pdf')"
   ]
  },
  {
   "cell_type": "markdown",
   "metadata": {},
   "source": [
    "## Removing Genres\n",
    "\n",
    "If we do want to remove the genres that occur less frequently we can use the function below to do so.\n",
    "\n",
    "Note: If we remove genres we will need to remove the movies that end up with no genre. Could find the indexes for these in the loop that looks like the one below."
   ]
  },
  {
   "cell_type": "code",
   "execution_count": 7,
   "metadata": {
    "collapsed": false,
    "scrolled": false
   },
   "outputs": [],
   "source": [
    "def remove_genres(data, frequency_threshold=0.05):\n",
    "    \"\"\"\n",
    "    Remove the genres that occur less that the frequency specified \n",
    "    amount of the time.\n",
    "    \n",
    "    Parameters\n",
    "    ----------\n",
    "    data: list\n",
    "        list of genres\n",
    "    frequency_threshold: float\n",
    "    \n",
    "    Returns\n",
    "    -------\n",
    "    data: list\n",
    "    \"\"\"\n",
    "    \n",
    "    unique_genres, counts_genres = np.unique(np.concatenate(data), return_counts=True)\n",
    "    freq_genre = counts_genres/np.sum(counts_genres)\n",
    "    keep_genres = set(unique_genres[freq_genre > frequency_threshold])\n",
    "    \n",
    "    genres = []\n",
    "    for i in range(len(data)):\n",
    "        genres.append(list(set(data[i]) & keep_genres))\n",
    "    return genres\n",
    "            \n",
    "# for lst in remove_genres(genres, frequency_threshold=0.05):\n",
    "#     if len(lst) == 0:\n",
    "#         print(lst)"
   ]
  },
  {
   "cell_type": "markdown",
   "metadata": {},
   "source": [
    "## Encoding the Genres\n",
    "\n",
    "The final step is encoding the genres in uniform manner. This will be done using a one-hot encoding. For every movie create a vector, the length of the unique set of labels, filled with 1's where the movie has that genre and 0's where the movie does not have the genre.\n",
    "\n",
    "Below is the function that turns the genres into a one_hot encoding."
   ]
  },
  {
   "cell_type": "code",
   "execution_count": 8,
   "metadata": {
    "collapsed": false
   },
   "outputs": [
    {
     "name": "stdout",
     "output_type": "stream",
     "text": [
      "['Action' 'Adventure' 'Comedy' 'Crime' 'Drama' 'Romance' 'Thriller']\n"
     ]
    },
    {
     "data": {
      "text/plain": [
       "<matplotlib.colorbar.Colorbar at 0x107b71390>"
      ]
     },
     "execution_count": 8,
     "metadata": {},
     "output_type": "execute_result"
    },
    {
     "data": {
      "image/png": "[encoded data removed]",
      "text/plain": [
       "<matplotlib.figure.Figure at 0x1075d4cf8>"
      ]
     },
     "metadata": {},
     "output_type": "display_data"
    }
   ],
   "source": [
    "def one_hot(data):\n",
    "    \"\"\"\n",
    "    Make a one-hot encoding of the genre data. Every\n",
    "    movie should have a list of genres.\n",
    "    \n",
    "    Parameters\n",
    "    ----------\n",
    "    data: list\n",
    "        a list of lists.\n",
    "        \n",
    "    Returns\n",
    "    -------\n",
    "    labels: np.array\n",
    "        the labels associated with the list shape (len(unique_genres), )\n",
    "    one_hot: np.array\n",
    "        the one hot encoding, with shape (len(data), len(unique_genres))\n",
    "    \n",
    "    \"\"\"\n",
    "    labels = np.unique(np.concatenate(data))\n",
    "    one_hot = np.zeros((len(data), len(labels)), dtype=bool)\n",
    "    for i in range(len(data)):\n",
    "        for j in range(len(data[i])):\n",
    "            one_hot[i] += data[i][j] == labels\n",
    "    return labels, one_hot.astype(int)\n",
    "\n",
    "temp_genres = remove_genres(genres, 0.05)\n",
    "labels, y = one_hot(temp_genres)\n",
    "print(labels)\n",
    "\n",
    "fig = plt.figure('Genres')\n",
    "ax = fig.add_subplot(111)\n",
    "temp = ax.imshow(y, aspect='auto')\n",
    "l = ax.set_xticklabels([0]+list(labels))\n",
    "ax.set_xlabel('Genre')\n",
    "ax.set_ylabel('Movie Number')\n",
    "plt.colorbar(temp)"
   ]
  },
  {
   "cell_type": "markdown",
   "metadata": {},
   "source": [
    "# Features\n",
    "\n",
    "In this section we create our feature matrix. "
   ]
  },
  {
   "cell_type": "markdown",
   "metadata": {},
   "source": [
    "## TF-IDF\n",
    "\n",
    "Sklearn has many tools in the 'vectorizor' family. In many instances these takes lists of documents (sentences, paragraphs) and turn them into matrices. This is like doing $k$-grams on the data but they have the tool built out so it is really fast and can return you sparse matrices. There are a number of vectorizors but the one that has caught our interest was the \\href{http://scikit-learn.org/stable/modules/generated/sklearn.feature_extraction.text.TfidfVectorizer.html#sklearn.feature_extraction.text.TfidfVectorizer}{TfidfVecotorizor}. \n",
    "\n",
    "This is based on the CountVectorizor where it looks at $k$-grams in your documents and creates a matrix with counts of those words in every document. The matrix rows represent each document and the column is a $k$-gram. For our data set we expect the number of words ($k$-grams) to be larger than the number of rows.\n",
    "\n",
    "The vectorizor we are planning on using is the TfidfVecotorizor. \n",
    "\n",
    "### Term Frequency\n",
    "\n",
    "Term frequency is the number of times a given $k$-gram appears in a single document. For instance, if we break the document into 1-grams (single words) we might want to find movies that have the 'explosive' a large number of times. The term frequency could help us do this.\n",
    "\n",
    "### Inverse Document Frequency\n",
    "\n",
    "Inverse document frequency is essentially the number of documents where the term (or $k$-gram) appears. Making common words have less weight.\n",
    "\n",
    "Finally, TF-IDF is the product of the term frequency and the inverse document frequency.\n",
    "\n",
    "## Stopwords\n",
    "\n",
    "For the case of the movies we may want to remove extrememly common words. This is mostly done by using TF-IDF, but for to see the differences we will be removing stopwords in one portion of our analysis.\n"
   ]
  },
  {
   "cell_type": "code",
   "execution_count": 9,
   "metadata": {
    "collapsed": false
   },
   "outputs": [
    {
     "data": {
      "text/plain": [
       "<5029x23988 sparse matrix of type '<class 'numpy.float64'>'\n",
       "\twith 234707 stored elements in Compressed Sparse Row format>"
      ]
     },
     "execution_count": 9,
     "metadata": {},
     "output_type": "execute_result"
    }
   ],
   "source": [
    "from sklearn.feature_extraction.text import CountVectorizer, TfidfVectorizer\n",
    "\n",
    "vectorizer = TfidfVectorizer(\n",
    "#     min_df=1,\n",
    "    max_df=0.7, \n",
    "    analyzer='word',\n",
    "    ngram_range=(1, 1),\n",
    "    stop_words=None)\n",
    "#     stop_words='english')\n",
    "X = vectorizer.fit_transform(plots)\n",
    "# vectorizer.get_feature_names()\n",
    "X"
   ]
  },
  {
   "cell_type": "code",
   "execution_count": 10,
   "metadata": {
    "collapsed": false
   },
   "outputs": [
    {
     "data": {
      "text/plain": [
       "['00',\n",
       " '000',\n",
       " '007',\n",
       " '07am',\n",
       " '10',\n",
       " '100',\n",
       " '1000',\n",
       " '101',\n",
       " '10m',\n",
       " '10th',\n",
       " '11',\n",
       " '1100',\n",
       " '117',\n",
       " '118',\n",
       " '118th',\n",
       " '119',\n",
       " '11th',\n",
       " '12',\n",
       " '1200',\n",
       " '1206',\n",
       " '121',\n",
       " '1215',\n",
       " '122',\n",
       " '12th',\n",
       " '13',\n",
       " '1300',\n",
       " '131',\n",
       " '1357',\n",
       " '13th',\n",
       " '13the',\n",
       " '14',\n",
       " '140',\n",
       " '1408',\n",
       " '142',\n",
       " '1431',\n",
       " '145',\n",
       " '14pm',\n",
       " '14th',\n",
       " '15',\n",
       " '150',\n",
       " '151',\n",
       " '1520',\n",
       " '1572',\n",
       " '1588',\n",
       " '1596',\n",
       " '15th',\n",
       " '16',\n",
       " '1607',\n",
       " '1621',\n",
       " '1630s',\n",
       " '1644',\n",
       " '1660',\n",
       " '1666',\n",
       " '16mm',\n",
       " '16th',\n",
       " '17',\n",
       " '170',\n",
       " '1700s',\n",
       " '1714',\n",
       " '1743',\n",
       " '175',\n",
       " '1752',\n",
       " '1774',\n",
       " '1776',\n",
       " '1795',\n",
       " '17th',\n",
       " '18',\n",
       " '180',\n",
       " '1800s',\n",
       " '1805',\n",
       " '1817',\n",
       " '1818',\n",
       " '1820',\n",
       " '1823',\n",
       " '1824',\n",
       " '1832',\n",
       " '1833',\n",
       " '1834',\n",
       " '1836',\n",
       " '1838',\n",
       " '1839',\n",
       " '1840s',\n",
       " '1845',\n",
       " '1848',\n",
       " '1849',\n",
       " '1850',\n",
       " '1850s',\n",
       " '1856',\n",
       " '1857',\n",
       " '1860',\n",
       " '1860s',\n",
       " '1861',\n",
       " '1862',\n",
       " '1863',\n",
       " '1865',\n",
       " '1868',\n",
       " '187',\n",
       " '1870s',\n",
       " '1874',\n",
       " '1876',\n",
       " '1879',\n",
       " '1880',\n",
       " '1880s',\n",
       " '1881',\n",
       " '1882',\n",
       " '1884',\n",
       " '1885',\n",
       " '1887',\n",
       " '1890',\n",
       " '1890s',\n",
       " '1893',\n",
       " '1895',\n",
       " '1899',\n",
       " '18th',\n",
       " '19',\n",
       " '1900',\n",
       " '1900s',\n",
       " '1901',\n",
       " '1902',\n",
       " '1903',\n",
       " '1904',\n",
       " '1905',\n",
       " '1910',\n",
       " '1911',\n",
       " '1912',\n",
       " '1913',\n",
       " '1914',\n",
       " '1915',\n",
       " '1916',\n",
       " '1917',\n",
       " '1920',\n",
       " '1920s',\n",
       " '1921',\n",
       " '1922',\n",
       " '1924',\n",
       " '1925',\n",
       " '1930',\n",
       " '1930s',\n",
       " '1931',\n",
       " '1932',\n",
       " '1933',\n",
       " '1935',\n",
       " '1936',\n",
       " '1937',\n",
       " '1938',\n",
       " '1939',\n",
       " '1940',\n",
       " '1940s',\n",
       " '1941',\n",
       " '1942',\n",
       " '1943',\n",
       " '1944',\n",
       " '1945',\n",
       " '1946',\n",
       " '1947',\n",
       " '1948',\n",
       " '1949',\n",
       " '1950',\n",
       " '1950s',\n",
       " '1951',\n",
       " '1952',\n",
       " '1953',\n",
       " '1954',\n",
       " '1955',\n",
       " '1956',\n",
       " '1957',\n",
       " '1958',\n",
       " '1959',\n",
       " '1960',\n",
       " '1960s',\n",
       " '1961',\n",
       " '1962',\n",
       " '1963',\n",
       " '1964',\n",
       " '1965',\n",
       " '1966',\n",
       " '1967',\n",
       " '1968',\n",
       " '1969',\n",
       " '1970',\n",
       " '1970s',\n",
       " '1971',\n",
       " '1972',\n",
       " '1973',\n",
       " '1974',\n",
       " '1975',\n",
       " '1976',\n",
       " '1977',\n",
       " '1978',\n",
       " '1979',\n",
       " '1980',\n",
       " '1980s',\n",
       " '1981',\n",
       " '1982',\n",
       " '1983',\n",
       " '1984',\n",
       " '1985',\n",
       " '1986',\n",
       " '1987',\n",
       " '1988',\n",
       " '1989',\n",
       " '1990',\n",
       " '1990s',\n",
       " '1991',\n",
       " '1992',\n",
       " '1993',\n",
       " '1994',\n",
       " '1995',\n",
       " '1997',\n",
       " '1998',\n",
       " '1999',\n",
       " '19th',\n",
       " '1m',\n",
       " '1st',\n",
       " '20',\n",
       " '200',\n",
       " '2000',\n",
       " '2000s',\n",
       " '2001',\n",
       " '2002',\n",
       " '2003',\n",
       " '2004',\n",
       " '2005',\n",
       " '2006',\n",
       " '2007',\n",
       " '2008',\n",
       " '2009',\n",
       " '2010',\n",
       " '2011',\n",
       " '2012',\n",
       " '2013',\n",
       " '2014',\n",
       " '2015',\n",
       " '2016',\n",
       " '2018',\n",
       " '2019',\n",
       " '2028',\n",
       " '2029',\n",
       " '2031',\n",
       " '2035',\n",
       " '2046',\n",
       " '2047',\n",
       " '2054',\n",
       " '2055',\n",
       " '2056',\n",
       " '2074',\n",
       " '2079',\n",
       " '208',\n",
       " '20s',\n",
       " '20th',\n",
       " '21',\n",
       " '2130',\n",
       " '2154',\n",
       " '2199',\n",
       " '21st',\n",
       " '22',\n",
       " '2270',\n",
       " '2274',\n",
       " '229',\n",
       " '22nd',\n",
       " '23',\n",
       " '23rd',\n",
       " '24',\n",
       " '2415',\n",
       " '24p',\n",
       " '25',\n",
       " '250',\n",
       " '25th',\n",
       " '26',\n",
       " '27',\n",
       " '28',\n",
       " '28th',\n",
       " '29',\n",
       " '2977',\n",
       " '298',\n",
       " '2nd',\n",
       " '30',\n",
       " '300',\n",
       " '3000',\n",
       " '3028',\n",
       " '31',\n",
       " '310lb',\n",
       " '317th',\n",
       " '31st',\n",
       " '33',\n",
       " '34',\n",
       " '35',\n",
       " '350',\n",
       " '35th',\n",
       " '36',\n",
       " '37',\n",
       " '370',\n",
       " '38',\n",
       " '39',\n",
       " '3942',\n",
       " '3955',\n",
       " '3a',\n",
       " '3d',\n",
       " '3po',\n",
       " '40',\n",
       " '400',\n",
       " '4077th',\n",
       " '40s',\n",
       " '40th',\n",
       " '41',\n",
       " '411',\n",
       " '41st',\n",
       " '42',\n",
       " '426',\n",
       " '43',\n",
       " '44',\n",
       " '46',\n",
       " '47',\n",
       " '48',\n",
       " '480',\n",
       " '48th',\n",
       " '4th',\n",
       " '50',\n",
       " '500',\n",
       " '5000',\n",
       " '50s',\n",
       " '50th',\n",
       " '51',\n",
       " '51st',\n",
       " '52',\n",
       " '53',\n",
       " '533',\n",
       " '54',\n",
       " '55',\n",
       " '56',\n",
       " '59',\n",
       " '5th',\n",
       " '60',\n",
       " '600',\n",
       " '60s',\n",
       " '62',\n",
       " '626',\n",
       " '63',\n",
       " '64',\n",
       " '65',\n",
       " '65th',\n",
       " '69',\n",
       " '6th',\n",
       " '70',\n",
       " '700',\n",
       " '70s',\n",
       " '72',\n",
       " '73',\n",
       " '732',\n",
       " '747',\n",
       " '74th',\n",
       " '75',\n",
       " '76',\n",
       " '7th',\n",
       " '7½',\n",
       " '80',\n",
       " '800',\n",
       " '80s',\n",
       " '84',\n",
       " '85',\n",
       " '88',\n",
       " '8th',\n",
       " '90',\n",
       " '90s',\n",
       " '90th',\n",
       " '911',\n",
       " '92s',\n",
       " '93',\n",
       " '999',\n",
       " '_lot_',\n",
       " '_the',\n",
       " '_tremors_',\n",
       " 'aaa',\n",
       " 'aaliyah',\n",
       " 'aang',\n",
       " 'aardvark',\n",
       " 'aaron',\n",
       " 'aarush',\n",
       " 'aba',\n",
       " 'abaddon',\n",
       " 'abagnale',\n",
       " 'abalam',\n",
       " 'abandon',\n",
       " 'abandoned',\n",
       " 'abandoning',\n",
       " 'abandonment',\n",
       " 'abandons',\n",
       " 'abate',\n",
       " 'abba',\n",
       " 'abbate',\n",
       " 'abbe',\n",
       " 'abbey',\n",
       " 'abbie',\n",
       " 'abbott',\n",
       " 'abby',\n",
       " 'abbé',\n",
       " 'abdi',\n",
       " 'abduct',\n",
       " 'abducted',\n",
       " 'abductees',\n",
       " 'abducting',\n",
       " 'abduction',\n",
       " 'abductors',\n",
       " 'abducts',\n",
       " 'abdul',\n",
       " 'abe',\n",
       " 'abel',\n",
       " 'aberdeen',\n",
       " 'abernathy',\n",
       " 'aberration',\n",
       " 'abhors',\n",
       " 'abigail',\n",
       " 'abilene',\n",
       " 'abilities',\n",
       " 'ability',\n",
       " 'abin',\n",
       " 'abject',\n",
       " 'ablaze',\n",
       " 'able',\n",
       " 'ablixa',\n",
       " 'abnormal',\n",
       " 'aboard',\n",
       " 'abolish',\n",
       " 'abolished',\n",
       " 'abolition',\n",
       " 'abolitionist',\n",
       " 'aboriginal',\n",
       " 'abortion',\n",
       " 'abortionist',\n",
       " 'abound',\n",
       " 'abounds',\n",
       " 'about',\n",
       " 'abouts',\n",
       " 'above',\n",
       " 'abraham',\n",
       " 'abrahams',\n",
       " 'abrasive',\n",
       " 'abroad',\n",
       " 'abrupt',\n",
       " 'abruptly',\n",
       " 'absconding',\n",
       " 'absence',\n",
       " 'absences',\n",
       " 'absent',\n",
       " 'absentee',\n",
       " 'absentia',\n",
       " 'abshire',\n",
       " 'absolute',\n",
       " 'absolutely',\n",
       " 'absolve',\n",
       " 'absorb',\n",
       " 'absorbed',\n",
       " 'abstract',\n",
       " 'absurd',\n",
       " 'abu',\n",
       " 'abuse',\n",
       " 'abused',\n",
       " 'abuses',\n",
       " 'abusing',\n",
       " 'abusive',\n",
       " 'abydos',\n",
       " 'abyss',\n",
       " 'aca',\n",
       " 'academic',\n",
       " 'academically',\n",
       " 'academy',\n",
       " 'acapulco',\n",
       " 'accelerated',\n",
       " 'accelerating',\n",
       " 'accept',\n",
       " 'acceptable',\n",
       " 'acceptance',\n",
       " 'accepted',\n",
       " 'accepting',\n",
       " 'accepts',\n",
       " 'access',\n",
       " 'accessible',\n",
       " 'accession',\n",
       " 'accident',\n",
       " 'accidental',\n",
       " 'accidentally',\n",
       " 'accidently',\n",
       " 'accidents',\n",
       " 'acclaim',\n",
       " 'acclaimed',\n",
       " 'acclimated',\n",
       " 'accommodate',\n",
       " 'accommodation',\n",
       " 'accomodate',\n",
       " 'accompanied',\n",
       " 'accompanies',\n",
       " 'accompanying',\n",
       " 'accomplice',\n",
       " 'accomplices',\n",
       " 'accomplish',\n",
       " 'accomplished',\n",
       " 'accomplishes',\n",
       " 'accordance',\n",
       " 'according',\n",
       " 'account',\n",
       " 'accountant',\n",
       " 'accounted',\n",
       " 'accounting',\n",
       " 'accounts',\n",
       " 'accra',\n",
       " 'accross',\n",
       " 'accumulated',\n",
       " 'accumulation',\n",
       " 'accuracy',\n",
       " 'accurate',\n",
       " 'accusation',\n",
       " 'accusations',\n",
       " 'accuse',\n",
       " 'accused',\n",
       " 'accuses',\n",
       " 'accusing',\n",
       " 'accustomed',\n",
       " 'ace',\n",
       " 'acerbic',\n",
       " 'aces',\n",
       " 'acheron',\n",
       " 'achieve',\n",
       " 'achieved',\n",
       " 'achievement',\n",
       " 'achievements',\n",
       " 'achiever',\n",
       " 'achieves',\n",
       " 'achieving',\n",
       " 'achillas',\n",
       " 'achim',\n",
       " 'acid',\n",
       " 'acknowledge',\n",
       " 'acknowledging',\n",
       " 'acquaintance',\n",
       " 'acquaintances',\n",
       " 'acquainted',\n",
       " 'acquiesce',\n",
       " 'acquire',\n",
       " 'acquired',\n",
       " 'acquires',\n",
       " 'acquittal',\n",
       " 'acre',\n",
       " 'acres',\n",
       " 'acrimonious',\n",
       " 'acrobat',\n",
       " 'across',\n",
       " 'act',\n",
       " 'acted',\n",
       " 'acting',\n",
       " 'action',\n",
       " 'actions',\n",
       " 'actium',\n",
       " 'activate',\n",
       " 'activates',\n",
       " 'active',\n",
       " 'activism',\n",
       " 'activist',\n",
       " 'activists',\n",
       " 'activities',\n",
       " 'activity',\n",
       " 'actor',\n",
       " 'actors',\n",
       " 'actress',\n",
       " 'actresses',\n",
       " 'acts',\n",
       " 'actual',\n",
       " 'actually',\n",
       " 'acute',\n",
       " 'acutely',\n",
       " 'ad',\n",
       " 'ada',\n",
       " 'adaa',\n",
       " 'adage',\n",
       " 'adaline',\n",
       " 'adam',\n",
       " 'adamant',\n",
       " 'adamantly',\n",
       " 'adams',\n",
       " 'adapt',\n",
       " 'adaptation',\n",
       " 'adapted',\n",
       " 'adapting',\n",
       " 'adapts',\n",
       " 'add',\n",
       " 'addams',\n",
       " 'added',\n",
       " 'addict',\n",
       " 'addicted',\n",
       " 'addiction',\n",
       " 'addictions',\n",
       " 'addictive',\n",
       " 'addicts',\n",
       " 'adding',\n",
       " 'addington',\n",
       " 'addison',\n",
       " 'addition',\n",
       " 'additional',\n",
       " 'additionally',\n",
       " 'addled',\n",
       " 'address',\n",
       " 'addressed',\n",
       " 'addresses',\n",
       " 'adds',\n",
       " 'adele',\n",
       " 'adept',\n",
       " 'adequate',\n",
       " 'adequately',\n",
       " 'adhd',\n",
       " 'adherence',\n",
       " 'adherents',\n",
       " 'adheres',\n",
       " 'adib',\n",
       " 'aditya',\n",
       " 'adjacent',\n",
       " 'adjust',\n",
       " 'adjustment',\n",
       " 'adjustments',\n",
       " 'adkins',\n",
       " 'adler',\n",
       " 'adm',\n",
       " 'administers',\n",
       " 'administration',\n",
       " 'administrator',\n",
       " 'administrators',\n",
       " 'admiral',\n",
       " 'admiration',\n",
       " 'admire',\n",
       " 'admired',\n",
       " 'admirer',\n",
       " 'admires',\n",
       " 'admiring',\n",
       " 'admission',\n",
       " 'admissions',\n",
       " 'admit',\n",
       " 'admits',\n",
       " 'admitted',\n",
       " 'admittedly',\n",
       " 'admitting',\n",
       " 'admonish',\n",
       " 'admonished',\n",
       " 'ado',\n",
       " 'adolescence',\n",
       " 'adolescent',\n",
       " 'adolescents',\n",
       " 'adolf',\n",
       " 'adonijah',\n",
       " 'adonis',\n",
       " 'adopt',\n",
       " 'adopted',\n",
       " 'adoption',\n",
       " 'adoptive',\n",
       " 'adopts',\n",
       " 'adorable',\n",
       " 'adoration',\n",
       " 'adore',\n",
       " 'adored',\n",
       " 'adores',\n",
       " 'adoring',\n",
       " 'adrenaline',\n",
       " 'adrian',\n",
       " 'adriana',\n",
       " 'adrift',\n",
       " 'ads',\n",
       " 'adulation',\n",
       " 'adult',\n",
       " 'adulterous',\n",
       " 'adultery',\n",
       " 'adulthood',\n",
       " 'adults',\n",
       " 'advance',\n",
       " 'advanced',\n",
       " 'advancement',\n",
       " 'advancements',\n",
       " 'advances',\n",
       " 'advancing',\n",
       " 'advantage',\n",
       " 'advantages',\n",
       " 'advent',\n",
       " 'adventure',\n",
       " 'adventurer',\n",
       " 'adventurers',\n",
       " 'adventures',\n",
       " 'adventuress',\n",
       " 'adventurist',\n",
       " 'adventurous',\n",
       " 'adversarial',\n",
       " 'adversaries',\n",
       " 'adversary',\n",
       " 'adverse',\n",
       " 'adversities',\n",
       " 'advertise',\n",
       " 'advertised',\n",
       " 'advertisement',\n",
       " 'advertiser',\n",
       " 'advertising',\n",
       " 'advice',\n",
       " 'advices',\n",
       " 'advise',\n",
       " 'advised',\n",
       " 'adviser',\n",
       " 'advisers',\n",
       " 'advises',\n",
       " 'advisor',\n",
       " 'advisors',\n",
       " 'advocate',\n",
       " 'advocates',\n",
       " 'aegis',\n",
       " 'aeon',\n",
       " 'aereon',\n",
       " 'aerialist',\n",
       " 'aether',\n",
       " 'afar',\n",
       " 'affable',\n",
       " 'affair',\n",
       " 'affairs',\n",
       " 'affect',\n",
       " 'affected',\n",
       " 'affecting',\n",
       " 'affection',\n",
       " 'affectionate',\n",
       " 'affectionately',\n",
       " 'affections',\n",
       " 'affects',\n",
       " 'affiliates',\n",
       " 'affinity',\n",
       " 'affleck',\n",
       " 'afflict',\n",
       " 'afflicted',\n",
       " 'affliction',\n",
       " 'affluent',\n",
       " 'afford',\n",
       " 'affordable',\n",
       " 'afforded',\n",
       " 'afghan',\n",
       " 'afghanistan',\n",
       " 'aficionado',\n",
       " 'aficionados',\n",
       " 'afloat',\n",
       " 'afoot',\n",
       " 'aforesaid',\n",
       " 'afoul',\n",
       " 'afraid',\n",
       " 'africa',\n",
       " 'african',\n",
       " 'africans',\n",
       " 'afrikaner',\n",
       " 'afro',\n",
       " 'afshin',\n",
       " 'after',\n",
       " 'aftercare',\n",
       " 'afterglow',\n",
       " 'afterlife',\n",
       " 'aftermath',\n",
       " 'afternoon',\n",
       " 'afterward',\n",
       " 'afterwards',\n",
       " 'afterwords',\n",
       " 'ag',\n",
       " 'again',\n",
       " 'against',\n",
       " 'age',\n",
       " 'aged',\n",
       " 'ageless',\n",
       " 'agencies',\n",
       " 'agency',\n",
       " 'agenda',\n",
       " 'agendas',\n",
       " 'agent',\n",
       " 'agents',\n",
       " 'ager',\n",
       " 'agers',\n",
       " 'ages',\n",
       " 'aggravated',\n",
       " 'aggression',\n",
       " 'aggressive',\n",
       " 'aggressively',\n",
       " 'aggressiveness',\n",
       " 'aggrieved',\n",
       " 'agility',\n",
       " 'agincourt',\n",
       " 'aging',\n",
       " 'agitate',\n",
       " 'agitated',\n",
       " 'agnes',\n",
       " 'agnew',\n",
       " 'ago',\n",
       " 'agonizing',\n",
       " 'agony',\n",
       " 'agoraphobic',\n",
       " 'agrabah',\n",
       " 'agree',\n",
       " 'agreed',\n",
       " 'agreeing',\n",
       " 'agreement',\n",
       " 'agrees',\n",
       " 'agriculture',\n",
       " 'agron',\n",
       " 'agustina',\n",
       " 'ahab',\n",
       " 'ahead',\n",
       " 'ahkmenrah',\n",
       " 'ahluwalia',\n",
       " 'ahmad',\n",
       " 'ahsha',\n",
       " 'aibileen',\n",
       " 'aid',\n",
       " 'aidan',\n",
       " 'aide',\n",
       " 'aided',\n",
       " 'aiden',\n",
       " 'aiding',\n",
       " 'aids',\n",
       " 'aiken',\n",
       " 'aileen',\n",
       " 'ailing',\n",
       " 'ailment',\n",
       " 'aim',\n",
       " 'aime',\n",
       " 'aimed',\n",
       " 'aiming',\n",
       " 'aimless',\n",
       " 'aimlessly',\n",
       " 'aims',\n",
       " 'air',\n",
       " 'airborne',\n",
       " 'aircraft',\n",
       " 'aires',\n",
       " 'airline',\n",
       " 'airliner',\n",
       " 'airlines',\n",
       " 'airplane',\n",
       " 'airport',\n",
       " 'airs',\n",
       " 'airship',\n",
       " 'airwaves',\n",
       " 'aisle',\n",
       " 'aisling',\n",
       " 'aj',\n",
       " 'ajami',\n",
       " 'ajla',\n",
       " 'aka',\n",
       " 'akbar',\n",
       " 'akima',\n",
       " 'akin',\n",
       " 'akira',\n",
       " 'ako',\n",
       " 'akshay',\n",
       " 'al',\n",
       " 'ala',\n",
       " 'alabama',\n",
       " 'aladdin',\n",
       " 'alagaesia',\n",
       " 'alain',\n",
       " 'alameda',\n",
       " 'alamo',\n",
       " 'alamos',\n",
       " 'alan',\n",
       " 'alarmed',\n",
       " 'alas',\n",
       " 'alaska',\n",
       " 'alaskan',\n",
       " 'alatriste',\n",
       " 'albania',\n",
       " 'albany',\n",
       " 'albeit',\n",
       " 'albert',\n",
       " 'alberta',\n",
       " 'alberto',\n",
       " 'albinius',\n",
       " 'albright',\n",
       " 'album',\n",
       " 'albuquerque',\n",
       " 'alcanfor',\n",
       " 'alcatraz',\n",
       " 'alchemy',\n",
       " 'alcohol',\n",
       " 'alcoholic',\n",
       " 'alcoholism',\n",
       " 'alden',\n",
       " 'alderman',\n",
       " 'aldo',\n",
       " 'aldous',\n",
       " 'alec',\n",
       " 'aleck',\n",
       " 'aleichem',\n",
       " 'alejandro',\n",
       " 'alert',\n",
       " 'alerts',\n",
       " 'alex',\n",
       " 'alexa',\n",
       " 'alexander',\n",
       " 'alexandria',\n",
       " 'alexei',\n",
       " 'alexi',\n",
       " 'alexia',\n",
       " 'alexis',\n",
       " 'alfie',\n",
       " 'alfred',\n",
       " 'algeria',\n",
       " 'algerian',\n",
       " 'algonquian',\n",
       " 'algonquin',\n",
       " 'ali',\n",
       " 'alias',\n",
       " 'alibi',\n",
       " 'alice',\n",
       " 'alien',\n",
       " 'alienated',\n",
       " 'alienates',\n",
       " 'alienation',\n",
       " 'aliens',\n",
       " 'alig',\n",
       " 'aligns',\n",
       " 'alike',\n",
       " 'alimony',\n",
       " 'alison',\n",
       " 'alive',\n",
       " 'all',\n",
       " 'allah',\n",
       " 'allan',\n",
       " 'allegations',\n",
       " 'alleged',\n",
       " 'allegedly',\n",
       " 'allegiance',\n",
       " 'allegiances',\n",
       " 'allegorical',\n",
       " 'allegra',\n",
       " 'allen',\n",
       " 'allergic',\n",
       " 'allergies',\n",
       " 'allergy',\n",
       " 'alleviate',\n",
       " 'alleviating',\n",
       " 'alley',\n",
       " 'alliance',\n",
       " 'alliances',\n",
       " 'allie',\n",
       " 'allied',\n",
       " 'allies',\n",
       " 'alligator',\n",
       " 'alligators',\n",
       " 'allison',\n",
       " 'allocate',\n",
       " 'allocated',\n",
       " 'allow',\n",
       " 'allowed',\n",
       " 'allowing',\n",
       " 'allows',\n",
       " 'allshard',\n",
       " 'allure',\n",
       " 'alluring',\n",
       " 'alluringly',\n",
       " 'ally',\n",
       " 'allyson',\n",
       " 'alma',\n",
       " 'almost',\n",
       " 'aloise',\n",
       " 'alona',\n",
       " 'alone',\n",
       " 'along',\n",
       " 'alongside',\n",
       " 'aloof',\n",
       " 'alotta',\n",
       " 'alpha',\n",
       " 'alphabet',\n",
       " 'alphonse',\n",
       " 'alps',\n",
       " 'already',\n",
       " 'alright',\n",
       " 'als',\n",
       " 'also',\n",
       " 'altar',\n",
       " 'altars',\n",
       " 'alter',\n",
       " 'altera',\n",
       " 'alteration',\n",
       " 'alterations',\n",
       " 'altercations',\n",
       " 'altered',\n",
       " 'altering',\n",
       " 'alternate',\n",
       " 'alternates',\n",
       " 'alternative',\n",
       " 'alternatives',\n",
       " 'alters',\n",
       " 'although',\n",
       " 'altman',\n",
       " 'altmann',\n",
       " 'alto',\n",
       " 'altogether',\n",
       " 'alton',\n",
       " 'alumni',\n",
       " 'alvarez',\n",
       " 'alvin',\n",
       " 'alvy',\n",
       " 'always',\n",
       " 'alyssa',\n",
       " 'alzheimer',\n",
       " 'am',\n",
       " 'amadeo',\n",
       " ...]"
      ]
     },
     "execution_count": 10,
     "metadata": {},
     "output_type": "execute_result"
    }
   ],
   "source": [
    "vectorizer.get_feature_names()"
   ]
  },
  {
   "cell_type": "markdown",
   "metadata": {},
   "source": [
    "# Classification"
   ]
  },
  {
   "cell_type": "markdown",
   "metadata": {},
   "source": [
    "## Test-Train Split\n",
    "\n",
    "For testing the classifiers we will split the data into a 'test' and 'train' set. This will be done with a 40-60% (test-train) split."
   ]
  },
  {
   "cell_type": "code",
   "execution_count": 11,
   "metadata": {
    "collapsed": false
   },
   "outputs": [],
   "source": [
    "from sklearn.model_selection import train_test_split\n",
    "\n",
    "X_train, X_test, y_train, y_test = train_test_split(X, y, test_size=0.4, random_state=42)"
   ]
  },
  {
   "cell_type": "markdown",
   "metadata": {},
   "source": [
    "## RandomForrest Model"
   ]
  },
  {
   "cell_type": "code",
   "execution_count": 12,
   "metadata": {
    "collapsed": false
   },
   "outputs": [],
   "source": [
    "from sklearn.ensemble import RandomForestClassifier\n",
    "from sklearn.metrics import f1_score\n",
    "\n",
    "clf = RandomForestClassifier(n_estimators=25, max_features='auto', max_depth=None)\n",
    "clf.fit(X_train, y_train)\n",
    "y_guess_probs = clf.predict_proba(X_test)\n",
    "y_guess = clf.predict(X_test)"
   ]
  },
  {
   "cell_type": "code",
   "execution_count": 13,
   "metadata": {
    "collapsed": false
   },
   "outputs": [
    {
     "data": {
      "text/plain": [
       "array([ 0.,  0.,  0.,  0.,  0.,  0.,  0.])"
      ]
     },
     "execution_count": 13,
     "metadata": {},
     "output_type": "execute_result"
    }
   ],
   "source": [
    "y_guess_probs[0][-1]\n",
    "y_guess[0]\n",
    "# y_test[0]"
   ]
  },
  {
   "cell_type": "code",
   "execution_count": 14,
   "metadata": {
    "collapsed": false
   },
   "outputs": [
    {
     "data": {
      "text/plain": [
       "0.1749502982107356"
      ]
     },
     "execution_count": 14,
     "metadata": {},
     "output_type": "execute_result"
    }
   ],
   "source": [
    "clf.score(X_test, y_test)"
   ]
  },
  {
   "cell_type": "code",
   "execution_count": 15,
   "metadata": {
    "collapsed": false
   },
   "outputs": [],
   "source": [
    "scores = f1_score(y_test, y_guess, average=None)"
   ]
  },
  {
   "cell_type": "code",
   "execution_count": 16,
   "metadata": {
    "collapsed": false
   },
   "outputs": [
    {
     "name": "stdout",
     "output_type": "stream",
     "text": [
      "('Action', 0.19065420560747667)\n",
      "('Adventure', 0.11616161616161617)\n",
      "('Comedy', 0.34648700673724742)\n",
      "('Crime', 0.12466124661246612)\n",
      "('Drama', 0.66315327184892403)\n",
      "('Romance', 0.07650273224043716)\n",
      "('Thriller', 0.09580838323353294)\n"
     ]
    }
   ],
   "source": [
    "for item in list(zip(labels, scores)):\n",
    "    print(item)"
   ]
  },
  {
   "cell_type": "code",
   "execution_count": 17,
   "metadata": {
    "collapsed": false
   },
   "outputs": [
    {
     "data": {
      "image/png": "[encoded data removed]",
      "text/plain": [
       "<matplotlib.figure.Figure at 0x10e339be0>"
      ]
     },
     "metadata": {},
     "output_type": "display_data"
    },
    {
     "name": "stdout",
     "output_type": "stream",
     "text": [
      "0.220857142857\n"
     ]
    }
   ],
   "source": [
    "## prob of being true in that genre\n",
    "probs = np.array(y_guess_probs)[:, :, 1].T\n",
    "\n",
    "thres_scores = []\n",
    "thresholds = np.linspace(0.001, 0.4)\n",
    "for threshold in thresholds:\n",
    "    ylabels = np.array(probs > threshold, dtype=int)\n",
    "    avg_f1_score = np.mean(f1_score(y_test, ylabels, average=None))\n",
    "    thres_scores.append(avg_f1_score)\n",
    "\n",
    "fig = plt.figure('Scores')\n",
    "ax = fig.add_subplot(111)\n",
    "ax.plot(thresholds, thres_scores)\n",
    "ax.set_xlabel('Probability Threshold')\n",
    "ax.set_ylabel('F1-Score')\n",
    "plt.show()\n",
    "\n",
    "print(thresholds[np.argmax(thres_scores)])"
   ]
  },
  {
   "cell_type": "code",
   "execution_count": 18,
   "metadata": {
    "collapsed": false
   },
   "outputs": [
    {
     "name": "stdout",
     "output_type": "stream",
     "text": [
      "('Action', 0.30666666666666664)\n",
      "('Adventure', 0.17349397590361448)\n",
      "('Comedy', 0.50662944870900217)\n",
      "('Crime', 0.20759493670886076)\n",
      "('Drama', 0.68962906888720665)\n",
      "('Romance', 0.19164619164619165)\n",
      "('Thriller', 0.10682492581602374)\n"
     ]
    }
   ],
   "source": [
    "ylabels = np.array(probs > threshold, dtype=int)\n",
    "scores = f1_score(y_test, ylabels, average=None)\n",
    "\n",
    "for item in list(zip(labels, scores)):\n",
    "    print(item)"
   ]
  },
  {
   "cell_type": "code",
   "execution_count": 19,
   "metadata": {
    "collapsed": false
   },
   "outputs": [
    {
     "data": {
      "text/plain": [
       "0.31178360204822375"
      ]
     },
     "execution_count": 19,
     "metadata": {},
     "output_type": "execute_result"
    }
   ],
   "source": [
    "# np.max(thres_scores)\n",
    "np.mean(scores)"
   ]
  },
  {
   "cell_type": "code",
   "execution_count": 20,
   "metadata": {
    "collapsed": false
   },
   "outputs": [
    {
     "data": {
      "text/plain": [
       "0.32139614737132632"
      ]
     },
     "execution_count": 20,
     "metadata": {},
     "output_type": "execute_result"
    }
   ],
   "source": [
    "# guess randomly\n",
    "np.mean(f1_score(y_test, np.random.randint(0, 2, ylabels.shape), average=None))"
   ]
  },
  {
   "cell_type": "markdown",
   "metadata": {
    "collapsed": true
   },
   "source": [
    "## Latent Dirichlet Allocation (LDA)\n",
    "\n",
    "https://en.wikipedia.org/wiki/Latent_Dirichlet_allocation"
   ]
  },
  {
   "cell_type": "code",
   "execution_count": 21,
   "metadata": {
    "collapsed": true
   },
   "outputs": [],
   "source": [
    "from sklearn.decomposition import LatentDirichletAllocation\n",
    "\n",
    "def print_top_words(model, feature_names, n_top_words):\n",
    "    for topic_idx, topic in enumerate(model.components_):\n",
    "        print(\"Topic #%d:\" % topic_idx)\n",
    "        print(\" \".join([feature_names[i]\n",
    "                        for i in topic.argsort()[:-n_top_words - 1:-1]]))\n",
    "    print()"
   ]
  },
  {
   "cell_type": "code",
   "execution_count": 22,
   "metadata": {
    "collapsed": false
   },
   "outputs": [
    {
     "name": "stdout",
     "output_type": "stream",
     "text": [
      "Topic #0:\n",
      "ben vegas luke ill jesse las professor compete concert doug trouble ronnie museum car royal hop hip casino gym mari\n",
      "Topic #1:\n",
      "school job new students money life doesn harry mind plan things god house ray college does waiting chris family high\n",
      "Topic #2:\n",
      "team new earth world group save evil city york crew human gang way money time police help race rescue captain\n",
      "Topic #3:\n",
      "life family man love young father old story mother year woman new time town day lives friend years girl friends\n",
      "Topic #4:\n",
      "war world group john american agent murder killer secret drug film man young dr years forces police help president detective\n",
      "Topic #5:\n",
      "danny beth kong thief rock dennis hong set fred cat matrix pearl scam pageant director festival clinic conan collection chip\n",
      "Topic #6:\n",
      "big george peter new movie friends film life high set maggie hotel school fame comedy magical tv white great night\n",
      "Topic #7:\n",
      "victor demon prince daniel throne bridge experiments madness exorcism consequences humanity darkness leon frankenstein companies machete connex bride god invaded\n",
      "Topic #8:\n",
      "eddie game invention tony embark discovery ralph howard self pool eve stark unexpected lily jason embarks christina hustler alcohol gwen\n",
      "Topic #9:\n",
      "couple jack island daughter nick sam trip charlie home marriage life different alex wife india actress elizabeth takes search david\n",
      "\n"
     ]
    }
   ],
   "source": [
    "n_features = 5000\n",
    "n_top_words = 20\n",
    "\n",
    "count_vectorizor = CountVectorizer(\n",
    "        max_df=0.95, \n",
    "        min_df=2,\n",
    "        max_features=n_features,\n",
    "        stop_words='english'\n",
    ")\n",
    "count = count_vectorizor.fit_transform(plots)\n",
    "count_feature_names = count_vectorizor.get_feature_names()\n",
    "\n",
    "lda = LatentDirichletAllocation(\n",
    "        n_topics=10, max_iter=5,\n",
    "        learning_method='online',\n",
    "        learning_offset=50.,\n",
    "        random_state=0\n",
    ")\n",
    "Z = lda.fit_transform(count)\n",
    "\n",
    "print_top_words(lda, count_feature_names, n_top_words)"
   ]
  },
  {
   "cell_type": "code",
   "execution_count": 23,
   "metadata": {
    "collapsed": false
   },
   "outputs": [
    {
     "name": "stdout",
     "output_type": "stream",
     "text": [
      "Topic #0:\n",
      "ben vegas luke ill jesse las professor compete concert doug trouble ronnie museum car royal hop hip casino gym mari\n",
      "Topic #1:\n",
      "school job new students money life doesn harry mind plan things god house ray college does waiting chris family high\n",
      "Topic #2:\n",
      "team new earth world group save evil city york crew human gang way money time police help race rescue captain\n",
      "Topic #3:\n",
      "life family man love young father old story mother year woman new time town day lives friend years girl friends\n",
      "Topic #4:\n",
      "war world group john american agent murder killer secret drug film man young dr years forces police help president detective\n",
      "Topic #5:\n",
      "danny beth kong thief rock dennis hong set fred cat matrix pearl scam pageant director festival clinic conan collection chip\n",
      "Topic #6:\n",
      "big george peter new movie friends film life high set maggie hotel school fame comedy magical tv white great night\n",
      "Topic #7:\n",
      "victor demon prince daniel throne bridge experiments madness exorcism consequences humanity darkness leon frankenstein companies machete connex bride god invaded\n",
      "Topic #8:\n",
      "eddie game invention tony embark discovery ralph howard self pool eve stark unexpected lily jason embarks christina hustler alcohol gwen\n",
      "Topic #9:\n",
      "couple jack island daughter nick sam trip charlie home marriage life different alex wife india actress elizabeth takes search david\n",
      "\n"
     ]
    }
   ],
   "source": [
    "n_top_words = 20\n",
    "print_top_words(lda, count_feature_names, n_top_words)"
   ]
  },
  {
   "cell_type": "code",
   "execution_count": 24,
   "metadata": {
    "collapsed": true
   },
   "outputs": [],
   "source": [
    "X_train, X_test, y_train, y_test = train_test_split(Z, y, test_size=0.4, random_state=42)"
   ]
  },
  {
   "cell_type": "code",
   "execution_count": 25,
   "metadata": {
    "collapsed": false
   },
   "outputs": [
    {
     "data": {
      "text/plain": [
       "<matplotlib.colorbar.Colorbar at 0x110175a58>"
      ]
     },
     "execution_count": 25,
     "metadata": {},
     "output_type": "execute_result"
    },
    {
     "data": {
      "image/png": "[encoded data removed]",
      "text/plain": [
       "<matplotlib.figure.Figure at 0x10e3395f8>"
      ]
     },
     "metadata": {},
     "output_type": "display_data"
    }
   ],
   "source": [
    "plt.imshow(Z, aspect='auto')\n",
    "plt.colorbar()"
   ]
  },
  {
   "cell_type": "code",
   "execution_count": 26,
   "metadata": {
    "collapsed": true
   },
   "outputs": [],
   "source": [
    "ones = np.ones(Z.shape[0]).reshape((-1, 1))\n",
    "A = np.hstack((Z, ones))\n",
    "X_train, X_test, y_train, y_test = train_test_split(A, y, test_size=0.4, random_state=42)"
   ]
  },
  {
   "cell_type": "code",
   "execution_count": 27,
   "metadata": {
    "collapsed": false
   },
   "outputs": [
    {
     "name": "stdout",
     "output_type": "stream",
     "text": [
      "Genre: Action, Score: 0.5496535796766744\n",
      "Genre: Adventure, Score: 0.43278688524590164\n",
      "Genre: Comedy, Score: 0.5778152678194854\n",
      "Genre: Crime, Score: 0.314002828854314\n",
      "Genre: Drama, Score: 0.6783025325119781\n",
      "Genre: Romance, Score: 0.42318840579710143\n",
      "Genre: Thriller, Score: 0.13670886075949368\n"
     ]
    }
   ],
   "source": [
    "genre_coeffs = []\n",
    "scores = []\n",
    "\n",
    "for i in range(y.shape[1]):\n",
    "    coeffs = np.linalg.lstsq(X_train, y_train[:, i])[0]\n",
    "    genre_coeffs.append(coeffs)\n",
    "    y_pred = np.dot(X_test, coeffs)\n",
    "    y_pred = np.array(y_pred > 0.25, dtype=int)\n",
    "    score = f1_score(y_test[:, i], y_pred)\n",
    "    scores.append(score)\n",
    "    print(\"Genre: {}, Score: {}\".format(labels[i], score))"
   ]
  },
  {
   "cell_type": "code",
   "execution_count": 28,
   "metadata": {
    "collapsed": false
   },
   "outputs": [
    {
     "data": {
      "text/plain": [
       "0.44463690866642119"
      ]
     },
     "execution_count": 28,
     "metadata": {},
     "output_type": "execute_result"
    }
   ],
   "source": [
    "np.mean(scores)"
   ]
  },
  {
   "cell_type": "code",
   "execution_count": 29,
   "metadata": {
    "collapsed": true
   },
   "outputs": [],
   "source": [
    "plots = np.array(plots)"
   ]
  },
  {
   "cell_type": "code",
   "execution_count": 30,
   "metadata": {
    "collapsed": false
   },
   "outputs": [
    {
     "data": {
      "text/plain": [
       "array([ 'A paraplegic marine dispatched to the moon Pandora on a unique mission becomes torn between following his orders and protecting the world he feels is his home.',\n",
       "       \"After Elizabeth, Will, and Captain Barbossa rescue Captain Jack Sparrow from the the land of the dead, they must face their foes, Davy Jones and Lord Cutler Beckett. Beckett, now with control of Jones' heart, forms a dark alliance with him in order to rule the seas and wipe out the last of the Pirates. Now, Jack, Barbossa, Will, Elizabeth, Tia Dalma, and crew must call the Pirate Lords from the four corners of the globe, including the infamous Sao Feng, to gathering. The Pirate Lords want to release the goddess Calypso, Davy Jones's damned lover, from the trap they sent her to out of fear, in which the Pirate Lords must combine the 9 pieces that bound her by ritual to undo it and release her in hopes that she will help them fight. With this, all pirates will stand together and will make their final stand for freedom against Beckett, Jones, Norrington, the Flying Dutchman, and the entire East India Trading Company.\",\n",
       "       \"A cryptic message from Bond's past sends him on a trail to uncover a sinister organization. While M battles political forces to keep the secret service alive, Bond peels back the layers of deceit to reveal the terrible truth behind SPECTRE.\",\n",
       "       ..., 'A surreal take on the zombie genre.',\n",
       "       'A New York attorney is sent to Shanghai on business, where he finds himself in a legal mess that threatens his career. With the help of a relocation specialist and her contacts, he soon learns to appreciate the wonders of Shanghai.',\n",
       "       '\"If you don\\'t take risks, you\\'ll have a wasted soul.\" - Drew Barrymore. Ever since the second grade when he first saw her in E.T. The Extraterrestrial, Brian Herzlinger has had a crush on ...'], \n",
       "      dtype='<U3089')"
      ]
     },
     "execution_count": 30,
     "metadata": {},
     "output_type": "execute_result"
    }
   ],
   "source": [
    "plots"
   ]
  },
  {
   "cell_type": "code",
   "execution_count": 31,
   "metadata": {
    "collapsed": false
   },
   "outputs": [
    {
     "data": {
      "text/plain": [
       "<5029x5000 sparse matrix of type '<class 'numpy.int64'>'\n",
       "\twith 126734 stored elements in Compressed Sparse Row format>"
      ]
     },
     "execution_count": 31,
     "metadata": {},
     "output_type": "execute_result"
    }
   ],
   "source": [
    "count"
   ]
  },
  {
   "cell_type": "code",
   "execution_count": null,
   "metadata": {
    "collapsed": true
   },
   "outputs": [],
   "source": []
  }
 ],
 "metadata": {
  "kernelspec": {
   "display_name": "Python 3",
   "language": "python",
   "name": "python3"
  },
  "language_info": {
   "codemirror_mode": {
    "name": "ipython",
    "version": 3
   },
   "file_extension": ".py",
   "mimetype": "text/x-python",
   "name": "python",
   "nbconvert_exporter": "python",
   "pygments_lexer": "ipython3",
   "version": "3.6.0"
  }
 },
 "nbformat": 4,
 "nbformat_minor": 2
}

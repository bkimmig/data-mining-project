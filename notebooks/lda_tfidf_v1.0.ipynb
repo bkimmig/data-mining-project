{
 "cells": [
  {
   "cell_type": "code",
   "execution_count": 5,
   "metadata": {
    "collapsed": true
   },
   "outputs": [],
   "source": [
    "import numpy as np\n",
    "import scipy.sparse as sp\n",
    "import matplotlib.pyplot as plt\n",
    "import json\n",
    "\n",
    "from sklearn.model_selection import train_test_split\n",
    "from sklearn.metrics import f1_score\n",
    "from sklearn.decomposition import LatentDirichletAllocation\n",
    "from sklearn.feature_extraction.text import CountVectorizer, TfidfVectorizer\n",
    "from sklearn.linear_model import LogisticRegression\n",
    "from sklearn.ensemble import RandomForestClassifier\n",
    "from sklearn.decomposition import PCA\n",
    "\n",
    "## allow the import of the MovieData class\n",
    "import sys\n",
    "import os\n",
    "path = os.path.abspath(os.getcwd()) + '/../data_load'\n",
    "sys.path.insert(0, path)\n",
    "\n",
    "from movie_data import MovieData\n",
    "\n",
    "%matplotlib inline"
   ]
  },
  {
   "cell_type": "code",
   "execution_count": 6,
   "metadata": {
    "collapsed": false
   },
   "outputs": [
    {
     "name": "stdout",
     "output_type": "stream",
     "text": [
      "['Action' 'Adventure' 'Comedy' 'Crime' 'Drama' 'Horror' 'Romance'\n",
      " 'Thriller']\n"
     ]
    }
   ],
   "source": [
    "moviedata = MovieData(min_genre_frequency=0.1)\n",
    "print(moviedata.genre_labels)"
   ]
  },
  {
   "cell_type": "code",
   "execution_count": 7,
   "metadata": {
    "collapsed": true
   },
   "outputs": [],
   "source": [
    "def print_top_words(model, feature_names, n_top_words):\n",
    "    for topic_idx, topic in enumerate(model.components_):\n",
    "        print(\"Topic #%d:\" % topic_idx)\n",
    "        print(\" \".join([feature_names[i]\n",
    "                        for i in topic.argsort()[:-n_top_words - 1:-1]]))\n",
    "    print()"
   ]
  },
  {
   "cell_type": "markdown",
   "metadata": {},
   "source": [
    "# LDA"
   ]
  },
  {
   "cell_type": "code",
   "execution_count": 19,
   "metadata": {
    "collapsed": false
   },
   "outputs": [
    {
     "name": "stdout",
     "output_type": "stream",
     "text": [
      "Topic #0:\n",
      "professor king prince princess invention ma queen oil england throne bennett land lord east coast tournament royal chinese lily pakistan\n",
      "Topic #1:\n",
      "new york city family world life story school money young film lives harry team american students ray real follows mind\n",
      "Topic #2:\n",
      "earth group evil years human world alien crew planet save ship team son race los angeles help time michael new\n",
      "Topic #3:\n",
      "life man young family father old love mother woman story town year years time finds help son daughter home lives\n",
      "Topic #4:\n",
      "war police world agent murder group killer drug team american secret mission bond case man fbi detective forces government president\n",
      "Topic #5:\n",
      "alex lee danny hannah winter wilderness julie bent guide lion scam pat pearl lizzie rush hughes black hole various irving\n",
      "Topic #6:\n",
      "school friends life high friend best love new night day college big movie just sex star gets girl time party\n",
      "Topic #7:\n",
      "charlie victor darkness experiments bridge madness wallace matrix exorcism tried australia el khan horrifying andrea neo jamal melanie frankenstein trainer\n",
      "\n"
     ]
    }
   ],
   "source": [
    "n_features = 5000\n",
    "n_top_words = 20\n",
    "\n",
    "count_vectorizor = CountVectorizer(\n",
    "        max_df=0.95, \n",
    "        min_df=2,\n",
    "        max_features=n_features,\n",
    "        stop_words='english'\n",
    ")\n",
    "count = count_vectorizor.fit_transform(moviedata.plots)\n",
    "count_feature_names = count_vectorizor.get_feature_names()\n",
    "\n",
    "lda = LatentDirichletAllocation(\n",
    "        n_topics=8, max_iter=15,\n",
    "        learning_method='online',\n",
    "        learning_offset=50.,\n",
    "        random_state=0\n",
    ")\n",
    "Z = lda.fit_transform(count)\n",
    "\n",
    "print_top_words(lda, count_feature_names, n_top_words)"
   ]
  },
  {
   "cell_type": "markdown",
   "metadata": {},
   "source": [
    "# TF-IDF"
   ]
  },
  {
   "cell_type": "code",
   "execution_count": 9,
   "metadata": {
    "collapsed": false
   },
   "outputs": [],
   "source": [
    "vectorizer = TfidfVectorizer(\n",
    "    max_df=0.7, \n",
    "    analyzer='word',\n",
    "    ngram_range=(1, 1),\n",
    "    max_features=n_features,\n",
    "    stop_words='english')\n",
    "\n",
    "X = vectorizer.fit_transform(moviedata.plots)\n",
    "# vectorizer.get_feature_names()"
   ]
  },
  {
   "cell_type": "code",
   "execution_count": 10,
   "metadata": {
    "collapsed": true
   },
   "outputs": [],
   "source": [
    "pca = PCA(n_components=20)\n",
    "XX = pca.fit_transform(X.todense())"
   ]
  },
  {
   "cell_type": "markdown",
   "metadata": {},
   "source": [
    "## Combined"
   ]
  },
  {
   "cell_type": "code",
   "execution_count": 20,
   "metadata": {
    "collapsed": true
   },
   "outputs": [],
   "source": [
    "combined_features = np.hstack([Z, XX])\n",
    "\n",
    "X_train, X_test, y_train, y_test = train_test_split(\n",
    "    combined_features, \n",
    "    moviedata.one_hot_genres, \n",
    "    test_size=0.4, \n",
    "    random_state=42\n",
    ")"
   ]
  },
  {
   "cell_type": "markdown",
   "metadata": {},
   "source": [
    "# Linear Regression"
   ]
  },
  {
   "cell_type": "code",
   "execution_count": 21,
   "metadata": {
    "collapsed": false,
    "scrolled": false
   },
   "outputs": [
    {
     "name": "stdout",
     "output_type": "stream",
     "text": [
      "Genre: Action, Score: 0.58\n",
      "Genre: Adventure, Score: 0.51\n",
      "Genre: Comedy, Score: 0.58\n",
      "Genre: Crime, Score: 0.53\n",
      "Genre: Drama, Score: 0.69\n",
      "Genre: Horror, Score: 0.34\n",
      "Genre: Romance, Score: 0.51\n",
      "Genre: Thriller, Score: 0.38\n",
      "Mean f1 score: 0.517\n"
     ]
    }
   ],
   "source": [
    "genre_coeffs = []\n",
    "scores = []\n",
    "\n",
    "for i, label in enumerate(moviedata.genre_labels):\n",
    "    coeffs = np.linalg.lstsq(X_train, y_train[:, i])[0]\n",
    "    genre_coeffs.append(coeffs)\n",
    "    y_pred_probs = np.dot(X_test, coeffs)\n",
    "    y_pred = np.array(y_pred_probs > 0.25, dtype=int)\n",
    "    score = f1_score(y_test[:, i], y_pred)\n",
    "    scores.append(score)\n",
    "    print(\"Genre: {}, Score: {:.2f}\".format(label, score))\n",
    "    \n",
    "print('Mean f1 score: {:.3f}'.format(np.mean(scores)))"
   ]
  },
  {
   "cell_type": "markdown",
   "metadata": {},
   "source": [
    "# Logistic Regression"
   ]
  },
  {
   "cell_type": "code",
   "execution_count": 22,
   "metadata": {
    "collapsed": false
   },
   "outputs": [
    {
     "name": "stdout",
     "output_type": "stream",
     "text": [
      "Genre: Action, Score: 0.59\n",
      "Genre: Adventure, Score: 0.48\n",
      "Genre: Comedy, Score: 0.57\n",
      "Genre: Crime, Score: 0.50\n",
      "Genre: Drama, Score: 0.65\n",
      "Genre: Horror, Score: 0.34\n",
      "Genre: Romance, Score: 0.44\n",
      "Genre: Thriller, Score: 0.39\n",
      "Mean f1 score: 0.496\n"
     ]
    },
    {
     "data": {
      "image/png": "[encoded data removed]",
      "text/plain": [
       "<matplotlib.figure.Figure at 0x10a54f2b0>"
      ]
     },
     "metadata": {},
     "output_type": "display_data"
    }
   ],
   "source": [
    "scores = []\n",
    "\n",
    "for i, label in enumerate(moviedata.genre_labels):\n",
    "    clf = LogisticRegression()\n",
    "    clf.fit(X_train, y_train[:, i])\n",
    "    y_pred_probs = clf.predict_proba(X_test)[:, 1]\n",
    "    plt.hist(y_pred_probs)\n",
    "    y_pred = np.array(y_pred_probs > np.mean(y_pred_probs), dtype=int)\n",
    "    score = f1_score(y_test[:, i], y_pred)\n",
    "    scores.append(score)\n",
    "    print(\"Genre: {}, Score: {:.2f}\".format(label, score))\n",
    "    \n",
    "print('Mean f1 score: {:.3f}'.format(np.mean(scores)))"
   ]
  },
  {
   "cell_type": "markdown",
   "metadata": {},
   "source": [
    "# Random Forrest"
   ]
  },
  {
   "cell_type": "code",
   "execution_count": 23,
   "metadata": {
    "collapsed": true
   },
   "outputs": [],
   "source": [
    "clf = RandomForestClassifier(n_estimators=25, max_features='auto', max_depth=None)\n",
    "clf.fit(X_train, y_train)\n",
    "y_guess_probs = clf.predict_proba(X_test)\n",
    "y_guess = clf.predict(X_test)"
   ]
  },
  {
   "cell_type": "code",
   "execution_count": 24,
   "metadata": {
    "collapsed": true
   },
   "outputs": [],
   "source": [
    "scores = f1_score(y_test, y_guess, average=None)"
   ]
  },
  {
   "cell_type": "code",
   "execution_count": 25,
   "metadata": {
    "collapsed": false
   },
   "outputs": [
    {
     "name": "stdout",
     "output_type": "stream",
     "text": [
      "0.33544869369\n"
     ]
    }
   ],
   "source": [
    "print(np.mean(scores))"
   ]
  },
  {
   "cell_type": "code",
   "execution_count": 26,
   "metadata": {
    "collapsed": false
   },
   "outputs": [
    {
     "data": {
      "text/plain": [
       "0.313261197146808"
      ]
     },
     "execution_count": 26,
     "metadata": {},
     "output_type": "execute_result"
    }
   ],
   "source": [
    "# guess randomly\n",
    "np.mean(f1_score(y_test, np.random.randint(0, 2, y_test.shape), average=None))"
   ]
  },
  {
   "cell_type": "code",
   "execution_count": null,
   "metadata": {
    "collapsed": true
   },
   "outputs": [],
   "source": []
  }
 ],
 "metadata": {
  "kernelspec": {
   "display_name": "Python 3",
   "language": "python",
   "name": "python3"
  },
  "language_info": {
   "codemirror_mode": {
    "name": "ipython",
    "version": 3
   },
   "file_extension": ".py",
   "mimetype": "text/x-python",
   "name": "python",
   "nbconvert_exporter": "python",
   "pygments_lexer": "ipython3",
   "version": "3.6.0"
  }
 },
 "nbformat": 4,
 "nbformat_minor": 2
}

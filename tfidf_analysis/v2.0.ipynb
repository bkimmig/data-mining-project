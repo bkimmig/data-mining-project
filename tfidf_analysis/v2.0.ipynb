{
 "cells": [
  {
   "cell_type": "code",
   "execution_count": 1,
   "metadata": {
    "collapsed": true
   },
   "outputs": [],
   "source": [
    "import numpy as np\n",
    "import scipy.sparse as sp\n",
    "import matplotlib.pyplot as plt\n",
    "import json\n",
    "\n",
    "%matplotlib inline\n",
    "\n",
    "DATAPATH = '../data/movie_metadata.json'"
   ]
  },
  {
   "cell_type": "markdown",
   "metadata": {},
   "source": [
    "# Loading The Data\n",
    "\n",
    "Open the json file and load it into memory. We also clean the data and separate it into two array - plots and genres. The json movie data file is then deleted as we have no reason to keep it in memory.\n",
    "\n",
    "Split the genres to make a list, and remove whitespace from the entries. Example: 'Action, Adventure' splits to ['Action', ' Adventure'], the strip makes sure there is no ' Adventure' and we only get 'Adventure'."
   ]
  },
  {
   "cell_type": "code",
   "execution_count": 2,
   "metadata": {
    "collapsed": true
   },
   "outputs": [],
   "source": [
    "## load in the data\n",
    "with open(DATAPATH, 'r') as f:\n",
    "    movie_data = json.load(f)\n",
    "\n",
    "plots = []\n",
    "genres = []\n",
    "for movie in movie_data['data']:\n",
    "    plots.append(movie['plot'])\n",
    "    genres.append([genres.strip() for genres in movie['genres'].split(',')])\n",
    "\n",
    "del movie_data"
   ]
  },
  {
   "cell_type": "markdown",
   "metadata": {},
   "source": [
    "# Genres\n",
    "\n",
    "Below you can see that we have about 26 unique genres. We may not want to use all of them, so we should only look at the genres that occur most frequently (maybe?). I think to start we may try them all, but looking only at the most frequent genres could be a helpful reduction in the data."
   ]
  },
  {
   "cell_type": "code",
   "execution_count": 3,
   "metadata": {
    "collapsed": false
   },
   "outputs": [
    {
     "name": "stdout",
     "output_type": "stream",
     "text": [
      "GENRES\n",
      "------\n",
      "Action\n",
      "Adventure\n",
      "Animation\n",
      "Biography\n",
      "Comedy\n",
      "Crime\n",
      "Documentary\n",
      "Drama\n",
      "Family\n",
      "Fantasy\n",
      "Film-Noir\n",
      "Game-Show\n",
      "History\n",
      "Horror\n",
      "Music\n",
      "Musical\n",
      "Mystery\n",
      "News\n",
      "Reality-TV\n",
      "Romance\n",
      "Sci-Fi\n",
      "Short\n",
      "Sport\n",
      "Thriller\n",
      "War\n",
      "Western\n",
      "------\n",
      "Number of Unique Genres 26\n"
     ]
    }
   ],
   "source": [
    "unique_genres, counts_genres = np.unique(np.concatenate(genres), return_counts=True)\n",
    "print('GENRES')\n",
    "print('------')\n",
    "for genre in unique_genres:\n",
    "    print(genre)\n",
    "print('------')\n",
    "print(\"Number of Unique Genres {}\".format(len(unique_genres)))"
   ]
  },
  {
   "cell_type": "markdown",
   "metadata": {},
   "source": [
    "## Genre Frequency\n",
    "\n",
    "There are a large number of genres that occur very infrequently, for instance we can see that the genres 'Game-Show' or 'Reality-TV' occur less than 1% of the time. It might be good to only look at genres that occur more than 1% or 5% of the time. As a side note, these rare generes could be a result of the wrong movie information - this should be rare though as we used IMDB IDs to search for the movie information. Or it could be a result of the movie, in the database we got them from, having incorrect or just mislabeled information. "
   ]
  },
  {
   "cell_type": "code",
   "execution_count": 18,
   "metadata": {
    "collapsed": false
   },
   "outputs": [
    {
     "name": "stdout",
     "output_type": "stream",
     "text": [
      "('Action', 0.092597038815526209)\n",
      "('Adventure', 0.074429771908763501)\n",
      "('Animation', 0.019367747098839535)\n",
      "('Biography', 0.024009603841536616)\n",
      "('Comedy', 0.1477390956382553)\n",
      "('Crime', 0.070108043217286919)\n",
      "('Documentary', 0.0094437775110044024)\n",
      "('Drama', 0.20352140856342538)\n",
      "('Family', 0.029851940776310523)\n",
      "('Fantasy', 0.031372549019607843)\n",
      "('Film-Noir', 0.00040016006402561027)\n",
      "('Game-Show', 8.0032012805122043e-05)\n",
      "('History', 0.012885154061624649)\n",
      "('Horror', 0.043777511004401762)\n",
      "('Music', 0.013765506202480992)\n",
      "('Musical', 0.0056022408963585435)\n",
      "('Mystery', 0.032412965186074429)\n",
      "('News', 0.00016006402561024409)\n",
      "('Reality-TV', 0.00016006402561024409)\n",
      "('Romance', 0.069547819127651067)\n",
      "('Sci-Fi', 0.032492997198879554)\n",
      "('Short', 0.00040016006402561027)\n",
      "('Sport', 0.010164065626250501)\n",
      "('Thriller', 0.062825130052020811)\n",
      "('War', 0.0085634253701480593)\n",
      "('Western', 0.0043217286914765908)\n",
      "-------\n",
      "Genres occuring more than 0.01% of the time\n",
      "['Action' 'Adventure' 'Animation' 'Biography' 'Comedy' 'Crime' 'Drama'\n",
      " 'Family' 'Fantasy' 'History' 'Horror' 'Music' 'Mystery' 'Romance' 'Sci-Fi'\n",
      " 'Sport' 'Thriller']\n"
     ]
    }
   ],
   "source": [
    "freq_genre = counts_genres/np.sum(counts_genres)\n",
    "for combination in list(zip(unique_genres, freq_genre)):\n",
    "    print(combination)\n",
    "\n",
    "print('-------')\n",
    "frequency_cut = 0.01\n",
    "print('Genres occuring more than {}% of the time'.format(frequency_cut))\n",
    "print(unique_genres[freq_genre > frequency_cut])"
   ]
  },
  {
   "cell_type": "code",
   "execution_count": 52,
   "metadata": {
    "collapsed": false
   },
   "outputs": [
    {
     "data": {
      "image/png": "[encoded data removed]",
      "text/plain": [
       "<matplotlib.figure.Figure at 0x120ef6eb8>"
      ]
     },
     "metadata": {},
     "output_type": "display_data"
    }
   ],
   "source": [
    "idx = np.arange(len(freq_genre))\n",
    "space = 0.1\n",
    "\n",
    "fig = plt.figure('')\n",
    "ax = fig.add_subplot(111)\n",
    "ax.bar(idx, freq_genre)\n",
    "ax.set_xticks(idx)\n",
    "ax.set_xticklabels(unique_genres, rotation='vertical')\n",
    "\n",
    "ax.hlines(0.05, -5, np.max(idx)+5, colors='r', linestyles='dashed')\n",
    "ax.set_xlim((-1, np.max(idx)+1))\n",
    "\n",
    "ax.set_ylabel('Fraction of Occurance')\n",
    "ax.set_xlabel('Genre')\n",
    "\n",
    "plt.tight_layout()\n",
    "plt.savefig('../intermediate_report/genre_fractions_v2p0.pdf')"
   ]
  },
  {
   "cell_type": "markdown",
   "metadata": {},
   "source": [
    "## Removing Genres\n",
    "\n",
    "If we do want to remove the genres that occur less frequently we can use the function below to do so.\n",
    "\n",
    "Note: If we remove genres we will need to remove the movies that end up with no genre. Could find the indexes for these in the loop that looks like the one below."
   ]
  },
  {
   "cell_type": "code",
   "execution_count": 20,
   "metadata": {
    "collapsed": false,
    "scrolled": false
   },
   "outputs": [],
   "source": [
    "def remove_genres(data, frequency_threshold=0.05):\n",
    "    \"\"\"\n",
    "    Remove the genres that occur less that the frequency specified \n",
    "    amount of the time.\n",
    "    \n",
    "    Parameters\n",
    "    ----------\n",
    "    data: list\n",
    "        list of genres\n",
    "    frequency_threshold: float\n",
    "    \n",
    "    Returns\n",
    "    -------\n",
    "    data: list\n",
    "    \"\"\"\n",
    "    \n",
    "    unique_genres, counts_genres = np.unique(np.concatenate(data), return_counts=True)\n",
    "    freq_genre = counts_genres/np.sum(counts_genres)\n",
    "    keep_genres = set(unique_genres[freq_genre > frequency_threshold])\n",
    "    \n",
    "    genres = []\n",
    "    for i in range(len(data)):\n",
    "        genres.append(list(set(data[i]) & keep_genres))\n",
    "    return genres\n",
    "            \n",
    "# for lst in remove_genres(genres, frequency_threshold=0.05):\n",
    "#     if len(lst) == 0:\n",
    "#         print(lst)"
   ]
  },
  {
   "cell_type": "markdown",
   "metadata": {},
   "source": [
    "## Encoding the Genres\n",
    "\n",
    "The final step is encoding the genres in uniform manner. This will be done using a one-hot encoding. For every movie create a vector, the length of the unique set of labels, filled with 1's where the movie has that genre and 0's where the movie does not have the genre.\n",
    "\n",
    "Below is the function that turns the genres into a one_hot encoding."
   ]
  },
  {
   "cell_type": "code",
   "execution_count": 31,
   "metadata": {
    "collapsed": false
   },
   "outputs": [
    {
     "name": "stdout",
     "output_type": "stream",
     "text": [
      "['Action' 'Adventure' 'Comedy' 'Crime' 'Drama' 'Romance' 'Thriller']\n"
     ]
    },
    {
     "data": {
      "text/plain": [
       "<matplotlib.text.Text at 0x11d26d048>"
      ]
     },
     "execution_count": 31,
     "metadata": {},
     "output_type": "execute_result"
    },
    {
     "data": {
      "image/png": "[encoded data removed]",
      "text/plain": [
       "<matplotlib.figure.Figure at 0x11d403908>"
      ]
     },
     "metadata": {},
     "output_type": "display_data"
    }
   ],
   "source": [
    "def one_hot(data):\n",
    "    \"\"\"\n",
    "    Make a one-hot encoding of the genre data. Every\n",
    "    movie should have a list of genres.\n",
    "    \n",
    "    Parameters\n",
    "    ----------\n",
    "    data: list\n",
    "        a list of lists.\n",
    "        \n",
    "    Returns\n",
    "    -------\n",
    "    labels: np.array\n",
    "        the labels associated with the list shape (len(unique_genres), )\n",
    "    one_hot: np.array\n",
    "        the one hot encoding, with shape (len(data), len(unique_genres))\n",
    "    \n",
    "    \"\"\"\n",
    "    labels = np.unique(np.concatenate(data))\n",
    "    one_hot = np.zeros((len(data), len(labels)), dtype=bool)\n",
    "    for i in range(len(data)):\n",
    "        for j in range(len(data[i])):\n",
    "            one_hot[i] += data[i][j] == labels\n",
    "    return labels, one_hot.astype(int)\n",
    "\n",
    "temp_genres = remove_genres(genres, 0.05)\n",
    "labels, y = one_hot(temp_genres)\n",
    "print(labels)\n",
    "\n",
    "fig = plt.figure('Genres')\n",
    "ax = fig.add_subplot(111)\n",
    "ax.imshow(y, aspect='auto')\n",
    "l = ax.set_xticklabels([0]+list(labels))\n",
    "ax.set_xlabel('Genre')\n",
    "ax.set_ylabel('Movie Number')"
   ]
  },
  {
   "cell_type": "markdown",
   "metadata": {},
   "source": [
    "# Features\n",
    "\n",
    "In this section we create our feature matrix. "
   ]
  },
  {
   "cell_type": "markdown",
   "metadata": {},
   "source": [
    "## TF-IDF\n",
    "\n",
    "Sklearn has many tools in the 'vectorizor' family. In many instances these takes lists of documents (sentences, paragraphs) and turn them into matrices. This is like doing $k$-grams on the data but they have the tool built out so it is really fast and can return you sparse matrices. There are a number of vectorizors but the one that has caught our interest was the \\href{http://scikit-learn.org/stable/modules/generated/sklearn.feature_extraction.text.TfidfVectorizer.html#sklearn.feature_extraction.text.TfidfVectorizer}{TfidfVecotorizor}. \n",
    "\n",
    "This is based on the CountVectorizor where it looks at $k$-grams in your documents and creates a matrix with counts of those words in every document. The matrix rows represent each document and the column is a $k$-gram. For our data set we expect the number of words ($k$-grams) to be larger than the number of rows.\n",
    "\n",
    "The vectorizor we are planning on using is the TfidfVecotorizor. \n",
    "\n",
    "### Term Frequency\n",
    "\n",
    "Term frequency is the number of times a given $k$-gram appears in a single document. For instance, if we break the document into 1-grams (single words) we might want to find movies that have the 'explosive' a large number of times. The term frequency could help us do this.\n",
    "\n",
    "### Inverse Document Frequency\n",
    "\n",
    "Inverse document frequency is essentially the number of documents where the term (or $k$-gram) appears. Making common words have less weight.\n",
    "\n",
    "Finally, TF-IDF is the product of the term frequency and the inverse document frequency.\n",
    "\n",
    "## Stopwords\n",
    "\n",
    "For the case of the movies we may want to remove extrememly common words. This is mostly done by using TF-IDF, but for to see the differences we will be removing stopwords in one portion of our analysis.\n"
   ]
  },
  {
   "cell_type": "code",
   "execution_count": 102,
   "metadata": {
    "collapsed": false
   },
   "outputs": [
    {
     "data": {
      "text/plain": [
       "<5029x23988 sparse matrix of type '<class 'numpy.float64'>'\n",
       "\twith 234707 stored elements in Compressed Sparse Row format>"
      ]
     },
     "execution_count": 102,
     "metadata": {},
     "output_type": "execute_result"
    }
   ],
   "source": [
    "from sklearn.feature_extraction.text import CountVectorizer, TfidfVectorizer\n",
    "\n",
    "vectorizer = TfidfVectorizer(\n",
    "#     min_df=1,\n",
    "    max_df=0.7, \n",
    "    analyzer='word',\n",
    "    ngram_range=(1, 1),\n",
    "    stop_words=None)\n",
    "#     stop_words='english')\n",
    "X = vectorizer.fit_transform(plots)\n",
    "# vectorizer.get_feature_names()\n",
    "X"
   ]
  },
  {
   "cell_type": "markdown",
   "metadata": {},
   "source": [
    "# Classification"
   ]
  },
  {
   "cell_type": "markdown",
   "metadata": {},
   "source": [
    "## Test-Train Split\n",
    "\n",
    "For testing the classifiers we will split the data into a 'test' and 'train' set. This will be done with a 40-60% (test-train) split."
   ]
  },
  {
   "cell_type": "code",
   "execution_count": 103,
   "metadata": {
    "collapsed": false
   },
   "outputs": [],
   "source": [
    "from sklearn.model_selection import train_test_split\n",
    "\n",
    "X_train, X_test, y_train, y_test = train_test_split(X, y, test_size=0.4, random_state=42)"
   ]
  },
  {
   "cell_type": "markdown",
   "metadata": {},
   "source": [
    "## RandomForrest Model"
   ]
  },
  {
   "cell_type": "code",
   "execution_count": 104,
   "metadata": {
    "collapsed": true
   },
   "outputs": [],
   "source": [
    "from sklearn.ensemble import RandomForestClassifier\n",
    "from sklearn.metrics import f1_score\n",
    "\n",
    "clf = RandomForestClassifier(n_estimators=25, max_features='auto', max_depth=None)\n",
    "clf.fit(X_train, y_train)\n",
    "y_guess_probs = clf.predict_proba(X_test)\n",
    "y_guess = clf.predict(X_test)"
   ]
  },
  {
   "cell_type": "code",
   "execution_count": 105,
   "metadata": {
    "collapsed": false
   },
   "outputs": [
    {
     "data": {
      "text/plain": [
       "0.18091451292246521"
      ]
     },
     "execution_count": 105,
     "metadata": {},
     "output_type": "execute_result"
    }
   ],
   "source": [
    "clf.score(X_test, y_test)"
   ]
  },
  {
   "cell_type": "code",
   "execution_count": 106,
   "metadata": {
    "collapsed": false
   },
   "outputs": [],
   "source": [
    "scores = f1_score(y_test, y_guess, average=None)"
   ]
  },
  {
   "cell_type": "code",
   "execution_count": 107,
   "metadata": {
    "collapsed": false
   },
   "outputs": [
    {
     "name": "stdout",
     "output_type": "stream",
     "text": [
      "('Action', 0.18656716417910446)\n",
      "('Adventure', 0.10714285714285714)\n",
      "('Comedy', 0.33300876338851021)\n",
      "('Crime', 0.14054054054054052)\n",
      "('Drama', 0.67561521252796419)\n",
      "('Romance', 0.066852367688022274)\n",
      "('Thriller', 0.095522388059701493)\n"
     ]
    }
   ],
   "source": [
    "for item in list(zip(labels, scores)):\n",
    "    print(item)"
   ]
  },
  {
   "cell_type": "code",
   "execution_count": 108,
   "metadata": {
    "collapsed": false
   },
   "outputs": [
    {
     "data": {
      "image/png": "[encoded data removed]",
      "text/plain": [
       "<matplotlib.figure.Figure at 0x12037d5c0>"
      ]
     },
     "metadata": {},
     "output_type": "display_data"
    },
    {
     "name": "stdout",
     "output_type": "stream",
     "text": [
      "0.212714285714\n"
     ]
    }
   ],
   "source": [
    "## prob of being true in that genre\n",
    "probs = np.array(y_guess_probs)[:, :, 1].T\n",
    "\n",
    "thres_scores = []\n",
    "thresholds = np.linspace(0.001, 0.4)\n",
    "for threshold in thresholds:\n",
    "    ylabels = np.array(probs > threshold, dtype=int)\n",
    "    avg_f1_score = np.mean(f1_score(y_test, ylabels, average=None))\n",
    "    thres_scores.append(avg_f1_score)\n",
    "\n",
    "fig = plt.figure('Scores')\n",
    "ax = fig.add_subplot(111)\n",
    "ax.plot(thresholds, thres_scores)\n",
    "ax.set_xlabel('Probability Threshold')\n",
    "ax.set_ylabel('F1-Score')\n",
    "plt.show()\n",
    "\n",
    "print(thresholds[np.argmax(thres_scores)])"
   ]
  },
  {
   "cell_type": "code",
   "execution_count": 111,
   "metadata": {
    "collapsed": false
   },
   "outputs": [
    {
     "name": "stdout",
     "output_type": "stream",
     "text": [
      "('Action', 0.30592105263157893)\n",
      "('Adventure', 0.19523809523809524)\n",
      "('Comedy', 0.50629163582531456)\n",
      "('Crime', 0.22670025188916876)\n",
      "('Drama', 0.69724770642201839)\n",
      "('Romance', 0.10389610389610389)\n",
      "('Thriller', 0.10650887573964497)\n"
     ]
    }
   ],
   "source": [
    "ylabels = np.array(probs > threshold, dtype=int)\n",
    "scores = f1_score(y_test, ylabels, average=None)\n",
    "\n",
    "for item in list(zip(labels, scores)):\n",
    "    print(item)"
   ]
  },
  {
   "cell_type": "code",
   "execution_count": 112,
   "metadata": {
    "collapsed": false
   },
   "outputs": [
    {
     "data": {
      "text/plain": [
       "0.50213817419322837"
      ]
     },
     "execution_count": 112,
     "metadata": {},
     "output_type": "execute_result"
    }
   ],
   "source": [
    "np.max(thres_scores)"
   ]
  },
  {
   "cell_type": "code",
   "execution_count": null,
   "metadata": {
    "collapsed": true
   },
   "outputs": [],
   "source": []
  }
 ],
 "metadata": {
  "kernelspec": {
   "display_name": "Python 3",
   "language": "python",
   "name": "python3"
  },
  "language_info": {
   "codemirror_mode": {
    "name": "ipython",
    "version": 3
   },
   "file_extension": ".py",
   "mimetype": "text/x-python",
   "name": "python",
   "nbconvert_exporter": "python",
   "pygments_lexer": "ipython3",
   "version": "3.6.0"
  }
 },
 "nbformat": 4,
 "nbformat_minor": 2
}
